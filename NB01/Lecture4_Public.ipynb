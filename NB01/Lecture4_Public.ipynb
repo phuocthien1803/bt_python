{
 "cells": [
  {
   "cell_type": "markdown",
   "metadata": {
    "colab_type": "text",
    "id": "wDtyCjZ4yc-W"
   },
   "source": [
    "## <img src ='Pic\\logo.jpg' width='500px'>\n",
    "\n",
    "\n",
    "<div align=\"center\">\n",
    "\n",
    "# KHÓA HỌC: LẬP TRÌNH PYTHON CƠ BẢN CHO PHÂN TÍCH DỮ LIỆU\n",
    "\n",
    "</div>\n",
    "\n",
    "\n",
    "---\n",
    "\n",
    "\n",
    "Bài 4 - Làm việc với Thư viện NumPy - Phần 01\n",
    "----\n",
    "Giảng Viên: Đặng Văn Nam\n",
    "\n",
    "Email: namdv@aiacademy.edu.vn"
   ]
  },
  {
   "cell_type": "markdown",
   "metadata": {},
   "source": [
    "**NỘI DUNG BÀI HỌC**\n",
    "1. **Giới thiệu một số thư viện quan trọng cho khoa học dữ liệu**\n",
    "2. **Giới thiệu thư viện Numpy**\n",
    "3. **Cách tạo vector, ma trận (matrix)**\n",
    "    * Tạo mảng 1D, 2D, 3D \n",
    "    * Tạo mảng với các hàm có sẵn \n",
    "    * Tạo mảng từ file dữ liệu\n",
    "4. **Thao tác cơ bản với mảng**\n",
    "    * Quan sát thuộc tính mảng\n",
    "    * Chuyển đổi kiểu dữ liệu \n",
    "    * Truy cập phần tử\n",
    "5. **Tính toán các đặc trưng thống kê trong mảng**\n",
    "    * Min, Max, Sum\n",
    "    * Mean, Median, Mode, Range\n",
    "    * Std\n",
    "    * Corrcoef"
   ]
  },
  {
   "cell_type": "markdown",
   "metadata": {
    "colab_type": "text",
    "id": "eHSVABSx6gXT"
   },
   "source": [
    "## I) CHUẨN BỊ CÁC THƯ VIỆN SỬ DỤNG"
   ]
  },
  {
   "cell_type": "markdown",
   "metadata": {
    "colab_type": "text",
    "id": "Amb6RsJJ4UtD"
   },
   "source": [
    "### 1) Kiểm tra các thư viện xem đã cài đặt hay chưa và phiên bản bao nhiêu?"
   ]
  },
  {
   "cell_type": "code",
   "execution_count": 2,
   "metadata": {
    "colab": {
     "base_uri": "https://localhost:8080/",
     "height": 34
    },
    "colab_type": "code",
    "id": "_XnBt7NKyG7d",
    "outputId": "f3341a80-d91e-4939-93b2-5996ca159000"
   },
   "outputs": [
    {
     "name": "stdout",
     "output_type": "stream",
     "text": [
      "Thư viện Numpy: Version:  1.19.2\n"
     ]
    }
   ],
   "source": [
    "#Kiểm tra phiên bản thư viện Numpy\n",
    "#import thư viện numpy để sử dụng\n",
    "import numpy as np \n",
    "\n",
    "print(\"Thư viện Numpy: Version: \", np.__version__)"
   ]
  },
  {
   "cell_type": "markdown",
   "metadata": {},
   "source": [
    "Học viên viết code kiểm tra phiên bản thư viện:\n",
    "* pandas (pd)\n",
    "* matplotlib (plt)\n",
    "* sklearn (sk)"
   ]
  },
  {
   "cell_type": "code",
   "execution_count": 17,
   "metadata": {
    "colab": {},
    "colab_type": "code",
    "id": "kDsya1qx6NYG"
   },
   "outputs": [
    {
     "name": "stdout",
     "output_type": "stream",
     "text": [
      "Thư viện Numpy: Version:  1.19.2\n",
      "Pandas:  1.1.3\n",
      "Matplotlib:  3.3.2\n",
      "Sklearn:  0.23.2\n",
      "NLTK:  3.5\n",
      "OpenCV:  4.10.0\n"
     ]
    }
   ],
   "source": [
    "# {VIẾT CODE Ở ĐÂY}\n",
    "import numpy as np\n",
    "print(\"Thư viện Numpy: Version: \", np.__version__)\n",
    "\n",
    "import pandas as pd\n",
    "print(\"Pandas: \",pd.__version__)\n",
    "\n",
    "import matplotlib as plt\n",
    "print(\"Matplotlib: \",plt.__version__)\n",
    "\n",
    "import sklearn as sk\n",
    "print(\"Sklearn: \",sk.__version__)\n",
    "\n",
    "import nltk\n",
    "print(\"NLTK: \",nltk.__version__)\n",
    "\n",
    "import cv2\n",
    "print(\"OpenCV: \",cv2.__version__)"
   ]
  },
  {
   "cell_type": "code",
   "execution_count": 18,
   "metadata": {},
   "outputs": [
    {
     "name": "stdout",
     "output_type": "stream",
     "text": [
      "Sklearn:  0.23.2\n"
     ]
    }
   ],
   "source": [
    "import sklearn as sk\n",
    "print(\"Sklearn: \",sk.__version__)"
   ]
  },
  {
   "cell_type": "code",
   "execution_count": 19,
   "metadata": {},
   "outputs": [
    {
     "name": "stdout",
     "output_type": "stream",
     "text": [
      "NLTK:  3.5\n"
     ]
    }
   ],
   "source": [
    "import nltk\n",
    "print(\"NLTK: \",nltk.__version__)"
   ]
  },
  {
   "cell_type": "code",
   "execution_count": 20,
   "metadata": {},
   "outputs": [
    {
     "name": "stdout",
     "output_type": "stream",
     "text": [
      "OpenCV:  4.10.0\n"
     ]
    }
   ],
   "source": [
    "import cv2\n",
    "print(\"OpenCV: \",cv2.__version__)"
   ]
  },
  {
   "cell_type": "code",
   "execution_count": 21,
   "metadata": {},
   "outputs": [
    {
     "data": {
      "text/plain": [
       "['ALLOW_THREADS',\n",
       " 'AxisError',\n",
       " 'BUFSIZE',\n",
       " 'CLIP',\n",
       " 'ComplexWarning',\n",
       " 'DataSource',\n",
       " 'ERR_CALL',\n",
       " 'ERR_DEFAULT',\n",
       " 'ERR_IGNORE',\n",
       " 'ERR_LOG',\n",
       " 'ERR_PRINT',\n",
       " 'ERR_RAISE',\n",
       " 'ERR_WARN',\n",
       " 'FLOATING_POINT_SUPPORT',\n",
       " 'FPE_DIVIDEBYZERO',\n",
       " 'FPE_INVALID',\n",
       " 'FPE_OVERFLOW',\n",
       " 'FPE_UNDERFLOW',\n",
       " 'False_',\n",
       " 'Inf',\n",
       " 'Infinity',\n",
       " 'MAXDIMS',\n",
       " 'MAY_SHARE_BOUNDS',\n",
       " 'MAY_SHARE_EXACT',\n",
       " 'MachAr',\n",
       " 'ModuleDeprecationWarning',\n",
       " 'NAN',\n",
       " 'NINF',\n",
       " 'NZERO',\n",
       " 'NaN',\n",
       " 'PINF',\n",
       " 'PZERO',\n",
       " 'RAISE',\n",
       " 'RankWarning',\n",
       " 'SHIFT_DIVIDEBYZERO',\n",
       " 'SHIFT_INVALID',\n",
       " 'SHIFT_OVERFLOW',\n",
       " 'SHIFT_UNDERFLOW',\n",
       " 'ScalarType',\n",
       " 'Tester',\n",
       " 'TooHardError',\n",
       " 'True_',\n",
       " 'UFUNC_BUFSIZE_DEFAULT',\n",
       " 'UFUNC_PYVALS_NAME',\n",
       " 'VisibleDeprecationWarning',\n",
       " 'WRAP',\n",
       " '_NoValue',\n",
       " '_UFUNC_API',\n",
       " '__NUMPY_SETUP__',\n",
       " '__all__',\n",
       " '__builtins__',\n",
       " '__cached__',\n",
       " '__config__',\n",
       " '__dir__',\n",
       " '__doc__',\n",
       " '__file__',\n",
       " '__getattr__',\n",
       " '__git_revision__',\n",
       " '__loader__',\n",
       " '__mkl_version__',\n",
       " '__name__',\n",
       " '__package__',\n",
       " '__path__',\n",
       " '__spec__',\n",
       " '__version__',\n",
       " '_add_newdoc_ufunc',\n",
       " '_distributor_init',\n",
       " '_globals',\n",
       " '_mat',\n",
       " '_pytesttester',\n",
       " 'abs',\n",
       " 'absolute',\n",
       " 'add',\n",
       " 'add_docstring',\n",
       " 'add_newdoc',\n",
       " 'add_newdoc_ufunc',\n",
       " 'alen',\n",
       " 'all',\n",
       " 'allclose',\n",
       " 'alltrue',\n",
       " 'amax',\n",
       " 'amin',\n",
       " 'angle',\n",
       " 'any',\n",
       " 'append',\n",
       " 'apply_along_axis',\n",
       " 'apply_over_axes',\n",
       " 'arange',\n",
       " 'arccos',\n",
       " 'arccosh',\n",
       " 'arcsin',\n",
       " 'arcsinh',\n",
       " 'arctan',\n",
       " 'arctan2',\n",
       " 'arctanh',\n",
       " 'argmax',\n",
       " 'argmin',\n",
       " 'argpartition',\n",
       " 'argsort',\n",
       " 'argwhere',\n",
       " 'around',\n",
       " 'array',\n",
       " 'array2string',\n",
       " 'array_equal',\n",
       " 'array_equiv',\n",
       " 'array_repr',\n",
       " 'array_split',\n",
       " 'array_str',\n",
       " 'asanyarray',\n",
       " 'asarray',\n",
       " 'asarray_chkfinite',\n",
       " 'ascontiguousarray',\n",
       " 'asfarray',\n",
       " 'asfortranarray',\n",
       " 'asmatrix',\n",
       " 'asscalar',\n",
       " 'atleast_1d',\n",
       " 'atleast_2d',\n",
       " 'atleast_3d',\n",
       " 'average',\n",
       " 'bartlett',\n",
       " 'base_repr',\n",
       " 'binary_repr',\n",
       " 'bincount',\n",
       " 'bitwise_and',\n",
       " 'bitwise_not',\n",
       " 'bitwise_or',\n",
       " 'bitwise_xor',\n",
       " 'blackman',\n",
       " 'block',\n",
       " 'bmat',\n",
       " 'bool',\n",
       " 'bool8',\n",
       " 'bool_',\n",
       " 'broadcast',\n",
       " 'broadcast_arrays',\n",
       " 'broadcast_to',\n",
       " 'busday_count',\n",
       " 'busday_offset',\n",
       " 'busdaycalendar',\n",
       " 'byte',\n",
       " 'byte_bounds',\n",
       " 'bytes0',\n",
       " 'bytes_',\n",
       " 'c_',\n",
       " 'can_cast',\n",
       " 'cast',\n",
       " 'cbrt',\n",
       " 'cdouble',\n",
       " 'ceil',\n",
       " 'cfloat',\n",
       " 'char',\n",
       " 'character',\n",
       " 'chararray',\n",
       " 'choose',\n",
       " 'clip',\n",
       " 'clongdouble',\n",
       " 'clongfloat',\n",
       " 'column_stack',\n",
       " 'common_type',\n",
       " 'compare_chararrays',\n",
       " 'compat',\n",
       " 'complex',\n",
       " 'complex128',\n",
       " 'complex64',\n",
       " 'complex_',\n",
       " 'complexfloating',\n",
       " 'compress',\n",
       " 'concatenate',\n",
       " 'conj',\n",
       " 'conjugate',\n",
       " 'convolve',\n",
       " 'copy',\n",
       " 'copysign',\n",
       " 'copyto',\n",
       " 'core',\n",
       " 'corrcoef',\n",
       " 'correlate',\n",
       " 'cos',\n",
       " 'cosh',\n",
       " 'count_nonzero',\n",
       " 'cov',\n",
       " 'cross',\n",
       " 'csingle',\n",
       " 'ctypeslib',\n",
       " 'cumprod',\n",
       " 'cumproduct',\n",
       " 'cumsum',\n",
       " 'datetime64',\n",
       " 'datetime_as_string',\n",
       " 'datetime_data',\n",
       " 'deg2rad',\n",
       " 'degrees',\n",
       " 'delete',\n",
       " 'deprecate',\n",
       " 'deprecate_with_doc',\n",
       " 'diag',\n",
       " 'diag_indices',\n",
       " 'diag_indices_from',\n",
       " 'diagflat',\n",
       " 'diagonal',\n",
       " 'diff',\n",
       " 'digitize',\n",
       " 'disp',\n",
       " 'divide',\n",
       " 'divmod',\n",
       " 'dot',\n",
       " 'double',\n",
       " 'dsplit',\n",
       " 'dstack',\n",
       " 'dtype',\n",
       " 'e',\n",
       " 'ediff1d',\n",
       " 'einsum',\n",
       " 'einsum_path',\n",
       " 'emath',\n",
       " 'empty',\n",
       " 'empty_like',\n",
       " 'equal',\n",
       " 'errstate',\n",
       " 'euler_gamma',\n",
       " 'exp',\n",
       " 'exp2',\n",
       " 'expand_dims',\n",
       " 'expm1',\n",
       " 'extract',\n",
       " 'eye',\n",
       " 'fabs',\n",
       " 'fastCopyAndTranspose',\n",
       " 'fft',\n",
       " 'fill_diagonal',\n",
       " 'find_common_type',\n",
       " 'finfo',\n",
       " 'fix',\n",
       " 'flatiter',\n",
       " 'flatnonzero',\n",
       " 'flexible',\n",
       " 'flip',\n",
       " 'fliplr',\n",
       " 'flipud',\n",
       " 'float',\n",
       " 'float16',\n",
       " 'float32',\n",
       " 'float64',\n",
       " 'float_',\n",
       " 'float_power',\n",
       " 'floating',\n",
       " 'floor',\n",
       " 'floor_divide',\n",
       " 'fmax',\n",
       " 'fmin',\n",
       " 'fmod',\n",
       " 'format_float_positional',\n",
       " 'format_float_scientific',\n",
       " 'format_parser',\n",
       " 'frexp',\n",
       " 'frombuffer',\n",
       " 'fromfile',\n",
       " 'fromfunction',\n",
       " 'fromiter',\n",
       " 'frompyfunc',\n",
       " 'fromregex',\n",
       " 'fromstring',\n",
       " 'full',\n",
       " 'full_like',\n",
       " 'fv',\n",
       " 'gcd',\n",
       " 'generic',\n",
       " 'genfromtxt',\n",
       " 'geomspace',\n",
       " 'get_array_wrap',\n",
       " 'get_include',\n",
       " 'get_printoptions',\n",
       " 'getbufsize',\n",
       " 'geterr',\n",
       " 'geterrcall',\n",
       " 'geterrobj',\n",
       " 'gradient',\n",
       " 'greater',\n",
       " 'greater_equal',\n",
       " 'half',\n",
       " 'hamming',\n",
       " 'hanning',\n",
       " 'heaviside',\n",
       " 'histogram',\n",
       " 'histogram2d',\n",
       " 'histogram_bin_edges',\n",
       " 'histogramdd',\n",
       " 'hsplit',\n",
       " 'hstack',\n",
       " 'hypot',\n",
       " 'i0',\n",
       " 'identity',\n",
       " 'iinfo',\n",
       " 'imag',\n",
       " 'in1d',\n",
       " 'index_exp',\n",
       " 'indices',\n",
       " 'inexact',\n",
       " 'inf',\n",
       " 'info',\n",
       " 'infty',\n",
       " 'inner',\n",
       " 'insert',\n",
       " 'int',\n",
       " 'int0',\n",
       " 'int16',\n",
       " 'int32',\n",
       " 'int64',\n",
       " 'int8',\n",
       " 'int_',\n",
       " 'intc',\n",
       " 'integer',\n",
       " 'interp',\n",
       " 'intersect1d',\n",
       " 'intp',\n",
       " 'invert',\n",
       " 'ipmt',\n",
       " 'irr',\n",
       " 'is_busday',\n",
       " 'isclose',\n",
       " 'iscomplex',\n",
       " 'iscomplexobj',\n",
       " 'isfinite',\n",
       " 'isfortran',\n",
       " 'isin',\n",
       " 'isinf',\n",
       " 'isnan',\n",
       " 'isnat',\n",
       " 'isneginf',\n",
       " 'isposinf',\n",
       " 'isreal',\n",
       " 'isrealobj',\n",
       " 'isscalar',\n",
       " 'issctype',\n",
       " 'issubclass_',\n",
       " 'issubdtype',\n",
       " 'issubsctype',\n",
       " 'iterable',\n",
       " 'ix_',\n",
       " 'kaiser',\n",
       " 'kron',\n",
       " 'lcm',\n",
       " 'ldexp',\n",
       " 'left_shift',\n",
       " 'less',\n",
       " 'less_equal',\n",
       " 'lexsort',\n",
       " 'lib',\n",
       " 'linalg',\n",
       " 'linspace',\n",
       " 'little_endian',\n",
       " 'load',\n",
       " 'loads',\n",
       " 'loadtxt',\n",
       " 'log',\n",
       " 'log10',\n",
       " 'log1p',\n",
       " 'log2',\n",
       " 'logaddexp',\n",
       " 'logaddexp2',\n",
       " 'logical_and',\n",
       " 'logical_not',\n",
       " 'logical_or',\n",
       " 'logical_xor',\n",
       " 'logspace',\n",
       " 'long',\n",
       " 'longcomplex',\n",
       " 'longdouble',\n",
       " 'longfloat',\n",
       " 'longlong',\n",
       " 'lookfor',\n",
       " 'ma',\n",
       " 'mafromtxt',\n",
       " 'mask_indices',\n",
       " 'mat',\n",
       " 'math',\n",
       " 'matmul',\n",
       " 'matrix',\n",
       " 'matrixlib',\n",
       " 'max',\n",
       " 'maximum',\n",
       " 'maximum_sctype',\n",
       " 'may_share_memory',\n",
       " 'mean',\n",
       " 'median',\n",
       " 'memmap',\n",
       " 'meshgrid',\n",
       " 'mgrid',\n",
       " 'min',\n",
       " 'min_scalar_type',\n",
       " 'minimum',\n",
       " 'mintypecode',\n",
       " 'mirr',\n",
       " 'mkl',\n",
       " 'mod',\n",
       " 'modf',\n",
       " 'moveaxis',\n",
       " 'msort',\n",
       " 'multiply',\n",
       " 'nan',\n",
       " 'nan_to_num',\n",
       " 'nanargmax',\n",
       " 'nanargmin',\n",
       " 'nancumprod',\n",
       " 'nancumsum',\n",
       " 'nanmax',\n",
       " 'nanmean',\n",
       " 'nanmedian',\n",
       " 'nanmin',\n",
       " 'nanpercentile',\n",
       " 'nanprod',\n",
       " 'nanquantile',\n",
       " 'nanstd',\n",
       " 'nansum',\n",
       " 'nanvar',\n",
       " 'nbytes',\n",
       " 'ndarray',\n",
       " 'ndenumerate',\n",
       " 'ndfromtxt',\n",
       " 'ndim',\n",
       " 'ndindex',\n",
       " 'nditer',\n",
       " 'negative',\n",
       " 'nested_iters',\n",
       " 'newaxis',\n",
       " 'nextafter',\n",
       " 'nonzero',\n",
       " 'not_equal',\n",
       " 'nper',\n",
       " 'npv',\n",
       " 'numarray',\n",
       " 'number',\n",
       " 'obj2sctype',\n",
       " 'object',\n",
       " 'object0',\n",
       " 'object_',\n",
       " 'ogrid',\n",
       " 'oldnumeric',\n",
       " 'ones',\n",
       " 'ones_like',\n",
       " 'os',\n",
       " 'outer',\n",
       " 'packbits',\n",
       " 'pad',\n",
       " 'partition',\n",
       " 'percentile',\n",
       " 'pi',\n",
       " 'piecewise',\n",
       " 'place',\n",
       " 'pmt',\n",
       " 'poly',\n",
       " 'poly1d',\n",
       " 'polyadd',\n",
       " 'polyder',\n",
       " 'polydiv',\n",
       " 'polyfit',\n",
       " 'polyint',\n",
       " 'polymul',\n",
       " 'polynomial',\n",
       " 'polysub',\n",
       " 'polyval',\n",
       " 'positive',\n",
       " 'power',\n",
       " 'ppmt',\n",
       " 'printoptions',\n",
       " 'prod',\n",
       " 'product',\n",
       " 'promote_types',\n",
       " 'ptp',\n",
       " 'put',\n",
       " 'put_along_axis',\n",
       " 'putmask',\n",
       " 'pv',\n",
       " 'quantile',\n",
       " 'r_',\n",
       " 'rad2deg',\n",
       " 'radians',\n",
       " 'random',\n",
       " 'rate',\n",
       " 'ravel',\n",
       " 'ravel_multi_index',\n",
       " 'real',\n",
       " 'real_if_close',\n",
       " 'rec',\n",
       " 'recarray',\n",
       " 'recfromcsv',\n",
       " 'recfromtxt',\n",
       " 'reciprocal',\n",
       " 'record',\n",
       " 'remainder',\n",
       " 'repeat',\n",
       " 'require',\n",
       " 'reshape',\n",
       " 'resize',\n",
       " 'result_type',\n",
       " 'right_shift',\n",
       " 'rint',\n",
       " 'roll',\n",
       " 'rollaxis',\n",
       " 'roots',\n",
       " 'rot90',\n",
       " 'round',\n",
       " 'round_',\n",
       " 'row_stack',\n",
       " 's_',\n",
       " 'safe_eval',\n",
       " 'save',\n",
       " 'savetxt',\n",
       " 'savez',\n",
       " 'savez_compressed',\n",
       " 'sctype2char',\n",
       " 'sctypeDict',\n",
       " 'sctypeNA',\n",
       " 'sctypes',\n",
       " 'searchsorted',\n",
       " 'select',\n",
       " 'set_numeric_ops',\n",
       " 'set_printoptions',\n",
       " 'set_string_function',\n",
       " 'setbufsize',\n",
       " 'setdiff1d',\n",
       " 'seterr',\n",
       " 'seterrcall',\n",
       " 'seterrobj',\n",
       " 'setxor1d',\n",
       " 'shape',\n",
       " 'shares_memory',\n",
       " 'short',\n",
       " 'show_config',\n",
       " 'sign',\n",
       " 'signbit',\n",
       " 'signedinteger',\n",
       " 'sin',\n",
       " 'sinc',\n",
       " 'single',\n",
       " 'singlecomplex',\n",
       " 'sinh',\n",
       " 'size',\n",
       " 'sometrue',\n",
       " 'sort',\n",
       " 'sort_complex',\n",
       " 'source',\n",
       " 'spacing',\n",
       " 'split',\n",
       " 'sqrt',\n",
       " 'square',\n",
       " 'squeeze',\n",
       " 'stack',\n",
       " 'std',\n",
       " 'str',\n",
       " 'str0',\n",
       " 'str_',\n",
       " 'string_',\n",
       " 'subtract',\n",
       " 'sum',\n",
       " 'swapaxes',\n",
       " 'sys',\n",
       " 'take',\n",
       " 'take_along_axis',\n",
       " 'tan',\n",
       " 'tanh',\n",
       " 'tensordot',\n",
       " 'test',\n",
       " 'testing',\n",
       " 'tile',\n",
       " 'timedelta64',\n",
       " 'trace',\n",
       " 'tracemalloc_domain',\n",
       " 'transpose',\n",
       " 'trapz',\n",
       " 'tri',\n",
       " 'tril',\n",
       " 'tril_indices',\n",
       " 'tril_indices_from',\n",
       " 'trim_zeros',\n",
       " 'triu',\n",
       " 'triu_indices',\n",
       " 'triu_indices_from',\n",
       " 'true_divide',\n",
       " 'trunc',\n",
       " 'typeDict',\n",
       " 'typeNA',\n",
       " 'typecodes',\n",
       " 'typename',\n",
       " 'ubyte',\n",
       " 'ufunc',\n",
       " 'uint',\n",
       " 'uint0',\n",
       " 'uint16',\n",
       " 'uint32',\n",
       " 'uint64',\n",
       " 'uint8',\n",
       " 'uintc',\n",
       " 'uintp',\n",
       " 'ulonglong',\n",
       " 'unicode',\n",
       " 'unicode_',\n",
       " 'union1d',\n",
       " 'unique',\n",
       " 'unpackbits',\n",
       " 'unravel_index',\n",
       " 'unsignedinteger',\n",
       " 'unwrap',\n",
       " 'use_hugepage',\n",
       " 'ushort',\n",
       " 'vander',\n",
       " 'var',\n",
       " 'vdot',\n",
       " 'vectorize',\n",
       " 'version',\n",
       " 'void',\n",
       " 'void0',\n",
       " 'vsplit',\n",
       " 'vstack',\n",
       " 'warnings',\n",
       " 'where',\n",
       " 'who',\n",
       " 'zeros',\n",
       " 'zeros_like']"
      ]
     },
     "execution_count": 21,
     "metadata": {},
     "output_type": "execute_result"
    }
   ],
   "source": [
    "dir(np)"
   ]
  },
  {
   "cell_type": "markdown",
   "metadata": {
    "colab_type": "text",
    "id": "XM0y2qpb4I0V"
   },
   "source": [
    "### 2) Cài đặt, cập nhật thư viện sử dụng lệnh\n",
    "\n",
    "Để cài đặt một thư viện mới sử dụng lệnh:\n",
    "\n",
    "**!pip install <tên thư viện>**  \n",
    "\n",
    "hoặc :\n",
    "\n",
    "**!apt-get install <tên thư viện>**\n",
    "\n",
    "---\n",
    "Để cập nhật một thư viện lên phiên bản cao hơn sử dụng lệnh:\n",
    "\n",
    "**!pip install --user <tên thư viện> --upgrade**"
   ]
  },
  {
   "cell_type": "code",
   "execution_count": 72,
   "metadata": {},
   "outputs": [
    {
     "name": "stdout",
     "output_type": "stream",
     "text": [
      "Looking in links: c:\\Users\\Student\\AppData\\Local\\Temp\\tmp_1ose433\n",
      "Requirement already satisfied: setuptools in c:\\programdata\\anaconda3\\lib\\site-packages (50.3.1.post20201107)\n",
      "Requirement already satisfied: pip in c:\\programdata\\anaconda3\\lib\\site-packages (20.2.4)\n"
     ]
    }
   ],
   "source": [
    "!python -m ensurepip --default-pip"
   ]
  },
  {
   "cell_type": "code",
   "execution_count": 73,
   "metadata": {},
   "outputs": [
    {
     "name": "stdout",
     "output_type": "stream",
     "text": [
      "Requirement already satisfied: scrapy in c:\\users\\student\\appdata\\roaming\\python\\python38\\site-packages (2.11.2)\n",
      "Requirement already satisfied: service-identity>=18.1.0 in c:\\users\\student\\appdata\\roaming\\python\\python38\\site-packages (from scrapy) (24.1.0)\n",
      "Requirement already satisfied: queuelib>=1.4.2 in c:\\programdata\\anaconda3\\lib\\site-packages (from scrapy) (1.7.0)\n",
      "Requirement already satisfied: tldextract in c:\\programdata\\anaconda3\\lib\\site-packages (from scrapy) (5.1.2)\n",
      "Requirement already satisfied: Twisted>=18.9.0 in c:\\users\\student\\appdata\\roaming\\python\\python38\\site-packages (from scrapy) (24.7.0)\n",
      "Requirement already satisfied: defusedxml>=0.7.1 in c:\\users\\student\\appdata\\roaming\\python\\python38\\site-packages (from scrapy) (0.7.1)\n",
      "Requirement already satisfied: cssselect>=0.9.1 in c:\\programdata\\anaconda3\\lib\\site-packages (from scrapy) (1.2.0)\n",
      "Requirement already satisfied: lxml>=4.4.1 in c:\\programdata\\anaconda3\\lib\\site-packages (from scrapy) (4.6.1)\n",
      "Requirement already satisfied: protego>=0.1.15 in c:\\programdata\\anaconda3\\lib\\site-packages (from scrapy) (0.3.1)\n",
      "Requirement already satisfied: cryptography>=36.0.0 in c:\\users\\student\\appdata\\roaming\\python\\python38\\site-packages (from scrapy) (43.0.1)\n",
      "Requirement already satisfied: parsel>=1.5.0 in c:\\programdata\\anaconda3\\lib\\site-packages (from scrapy) (1.9.1)\n",
      "Requirement already satisfied: zope.interface>=5.1.0 in c:\\programdata\\anaconda3\\lib\\site-packages (from scrapy) (5.1.2)\n",
      "Requirement already satisfied: packaging in c:\\programdata\\anaconda3\\lib\\site-packages (from scrapy) (20.4)\n",
      "Requirement already satisfied: setuptools in c:\\programdata\\anaconda3\\lib\\site-packages (from scrapy) (50.3.1.post20201107)\n",
      "Requirement already satisfied: PyDispatcher>=2.0.5; platform_python_implementation == \"CPython\" in c:\\programdata\\anaconda3\\lib\\site-packages (from scrapy) (2.0.7)\n",
      "Requirement already satisfied: itemloaders>=1.0.1 in c:\\programdata\\anaconda3\\lib\\site-packages (from scrapy) (1.3.1)\n",
      "Requirement already satisfied: itemadapter>=0.1.0 in c:\\programdata\\anaconda3\\lib\\site-packages (from scrapy) (0.9.0)\n",
      "Requirement already satisfied: pyOpenSSL>=21.0.0 in c:\\users\\student\\appdata\\roaming\\python\\python38\\site-packages (from scrapy) (24.2.1)\n",
      "Requirement already satisfied: w3lib>=1.17.0 in c:\\programdata\\anaconda3\\lib\\site-packages (from scrapy) (2.2.1)\n",
      "Requirement already satisfied: attrs>=19.1.0 in c:\\users\\student\\appdata\\roaming\\python\\python38\\site-packages (from service-identity>=18.1.0->scrapy) (24.2.0)\n",
      "Requirement already satisfied: pyasn1 in c:\\programdata\\anaconda3\\lib\\site-packages (from service-identity>=18.1.0->scrapy) (0.6.1)\n",
      "Requirement already satisfied: pyasn1-modules in c:\\users\\student\\appdata\\roaming\\python\\python38\\site-packages (from service-identity>=18.1.0->scrapy) (0.4.1)\n",
      "Requirement already satisfied: requests-file>=1.4 in c:\\programdata\\anaconda3\\lib\\site-packages (from tldextract->scrapy) (2.1.0)\n",
      "Requirement already satisfied: filelock>=3.0.8 in c:\\programdata\\anaconda3\\lib\\site-packages (from tldextract->scrapy) (3.0.12)\n",
      "Requirement already satisfied: requests>=2.1.0 in c:\\programdata\\anaconda3\\lib\\site-packages (from tldextract->scrapy) (2.24.0)\n",
      "Requirement already satisfied: idna in c:\\programdata\\anaconda3\\lib\\site-packages (from tldextract->scrapy) (2.10)\n",
      "Requirement already satisfied: constantly>=15.1 in c:\\users\\student\\appdata\\roaming\\python\\python38\\site-packages (from Twisted>=18.9.0->scrapy) (23.10.4)\n",
      "Requirement already satisfied: hyperlink>=17.1.1 in c:\\users\\student\\appdata\\roaming\\python\\python38\\site-packages (from Twisted>=18.9.0->scrapy) (21.0.0)\n",
      "Requirement already satisfied: automat>=0.8.0 in c:\\users\\student\\appdata\\roaming\\python\\python38\\site-packages (from Twisted>=18.9.0->scrapy) (24.8.1)\n",
      "Requirement already satisfied: incremental>=24.7.0 in c:\\users\\student\\appdata\\roaming\\python\\python38\\site-packages (from Twisted>=18.9.0->scrapy) (24.7.2)\n",
      "Requirement already satisfied: typing-extensions>=4.2.0 in c:\\users\\student\\appdata\\roaming\\python\\python38\\site-packages (from Twisted>=18.9.0->scrapy) (4.12.2)\n",
      "Requirement already satisfied: cffi>=1.12; platform_python_implementation != \"PyPy\" in c:\\programdata\\anaconda3\\lib\\site-packages (from cryptography>=36.0.0->scrapy) (1.14.3)\n",
      "Requirement already satisfied: jmespath in c:\\programdata\\anaconda3\\lib\\site-packages (from parsel>=1.5.0->scrapy) (1.0.1)\n",
      "Requirement already satisfied: pyparsing>=2.0.2 in c:\\programdata\\anaconda3\\lib\\site-packages (from packaging->scrapy) (2.4.7)\n",
      "Requirement already satisfied: six in c:\\programdata\\anaconda3\\lib\\site-packages (from packaging->scrapy) (1.15.0)\n",
      "Requirement already satisfied: urllib3!=1.25.0,!=1.25.1,<1.26,>=1.21.1 in c:\\programdata\\anaconda3\\lib\\site-packages (from requests>=2.1.0->tldextract->scrapy) (1.25.11)\n",
      "Requirement already satisfied: certifi>=2017.4.17 in c:\\programdata\\anaconda3\\lib\\site-packages (from requests>=2.1.0->tldextract->scrapy) (2020.6.20)\n",
      "Requirement already satisfied: chardet<4,>=3.0.2 in c:\\programdata\\anaconda3\\lib\\site-packages (from requests>=2.1.0->tldextract->scrapy) (3.0.4)\n",
      "Requirement already satisfied: tomli; python_version < \"3.11\" in c:\\users\\student\\appdata\\roaming\\python\\python38\\site-packages (from incremental>=24.7.0->Twisted>=18.9.0->scrapy) (2.0.1)\n",
      "Requirement already satisfied: pycparser in c:\\programdata\\anaconda3\\lib\\site-packages (from cffi>=1.12; platform_python_implementation != \"PyPy\"->cryptography>=36.0.0->scrapy) (2.20)\n"
     ]
    }
   ],
   "source": [
    "!pip install --user scrapy"
   ]
  },
  {
   "cell_type": "code",
   "execution_count": 79,
   "metadata": {},
   "outputs": [
    {
     "name": "stdout",
     "output_type": "stream",
     "text": [
      "^C\n"
     ]
    }
   ],
   "source": [
    "!conda install -c conda-forge scrapy"
   ]
  },
  {
   "cell_type": "code",
   "execution_count": 80,
   "metadata": {
    "colab": {},
    "colab_type": "code",
    "id": "smBaGLdh3X7B"
   },
   "outputs": [
    {
     "ename": "ModuleNotFoundError",
     "evalue": "No module named 'scrapy'",
     "output_type": "error",
     "traceback": [
      "\u001b[1;31m---------------------------------------------------------------------------\u001b[0m",
      "\u001b[1;31mModuleNotFoundError\u001b[0m                       Traceback (most recent call last)",
      "\u001b[1;32m<ipython-input-80-c0efffb69371>\u001b[0m in \u001b[0;36m<module>\u001b[1;34m\u001b[0m\n\u001b[0;32m      1\u001b[0m \u001b[1;31m#Thư viện chưa được cài đặt:\u001b[0m\u001b[1;33m\u001b[0m\u001b[1;33m\u001b[0m\u001b[1;33m\u001b[0m\u001b[0m\n\u001b[1;32m----> 2\u001b[1;33m \u001b[1;32mimport\u001b[0m \u001b[0mscrapy\u001b[0m \u001b[1;32mas\u001b[0m \u001b[0msc\u001b[0m\u001b[1;33m\u001b[0m\u001b[1;33m\u001b[0m\u001b[0m\n\u001b[0m\u001b[0;32m      3\u001b[0m \u001b[0mprint\u001b[0m\u001b[1;33m(\u001b[0m\u001b[1;34m\"Thu vien Scrapy, Version: \"\u001b[0m\u001b[1;33m,\u001b[0m\u001b[0msc\u001b[0m\u001b[1;33m.\u001b[0m\u001b[0m__version__\u001b[0m\u001b[1;33m)\u001b[0m\u001b[1;33m\u001b[0m\u001b[1;33m\u001b[0m\u001b[0m\n",
      "\u001b[1;31mModuleNotFoundError\u001b[0m: No module named 'scrapy'"
     ]
    }
   ],
   "source": [
    "#Thư viện chưa được cài đặt:\n",
    "import scrapy as sc\n",
    "print(\"Thu vien Scrapy, Version: \",sc.__version__)"
   ]
  },
  {
   "cell_type": "code",
   "execution_count": 67,
   "metadata": {
    "colab": {},
    "colab_type": "code",
    "id": "NQPzi0b13h3v"
   },
   "outputs": [
    {
     "name": "stdout",
     "output_type": "stream",
     "text": [
      "Requirement already satisfied: scrapy in c:\\users\\student\\appdata\\roaming\\python\\python38\\site-packages (2.11.2)\n",
      "Requirement already satisfied: w3lib>=1.17.0 in c:\\programdata\\anaconda3\\lib\\site-packages (from scrapy) (2.2.1)\n",
      "Requirement already satisfied: lxml>=4.4.1 in c:\\programdata\\anaconda3\\lib\\site-packages (from scrapy) (4.6.1)\n",
      "Requirement already satisfied: PyDispatcher>=2.0.5; platform_python_implementation == \"CPython\" in c:\\programdata\\anaconda3\\lib\\site-packages (from scrapy) (2.0.7)\n",
      "Requirement already satisfied: Twisted>=18.9.0 in c:\\users\\student\\appdata\\roaming\\python\\python38\\site-packages (from scrapy) (24.7.0)\n",
      "Requirement already satisfied: itemadapter>=0.1.0 in c:\\programdata\\anaconda3\\lib\\site-packages (from scrapy) (0.9.0)\n",
      "Requirement already satisfied: itemloaders>=1.0.1 in c:\\programdata\\anaconda3\\lib\\site-packages (from scrapy) (1.3.1)\n",
      "Requirement already satisfied: queuelib>=1.4.2 in c:\\programdata\\anaconda3\\lib\\site-packages (from scrapy) (1.7.0)\n",
      "Requirement already satisfied: setuptools in c:\\programdata\\anaconda3\\lib\\site-packages (from scrapy) (50.3.1.post20201107)\n",
      "Requirement already satisfied: pyOpenSSL>=21.0.0 in c:\\users\\student\\appdata\\roaming\\python\\python38\\site-packages (from scrapy) (24.2.1)\n",
      "Requirement already satisfied: cssselect>=0.9.1 in c:\\programdata\\anaconda3\\lib\\site-packages (from scrapy) (1.2.0)\n",
      "Requirement already satisfied: defusedxml>=0.7.1 in c:\\users\\student\\appdata\\roaming\\python\\python38\\site-packages (from scrapy) (0.7.1)\n",
      "Requirement already satisfied: packaging in c:\\programdata\\anaconda3\\lib\\site-packages (from scrapy) (20.4)\n",
      "Requirement already satisfied: service-identity>=18.1.0 in c:\\users\\student\\appdata\\roaming\\python\\python38\\site-packages (from scrapy) (24.1.0)\n",
      "Requirement already satisfied: tldextract in c:\\programdata\\anaconda3\\lib\\site-packages (from scrapy) (5.1.2)\n",
      "Requirement already satisfied: zope.interface>=5.1.0 in c:\\programdata\\anaconda3\\lib\\site-packages (from scrapy) (5.1.2)\n",
      "Requirement already satisfied: parsel>=1.5.0 in c:\\programdata\\anaconda3\\lib\\site-packages (from scrapy) (1.9.1)\n",
      "Requirement already satisfied: cryptography>=36.0.0 in c:\\users\\student\\appdata\\roaming\\python\\python38\\site-packages (from scrapy) (43.0.1)\n",
      "Requirement already satisfied: protego>=0.1.15 in c:\\programdata\\anaconda3\\lib\\site-packages (from scrapy) (0.3.1)\n",
      "Requirement already satisfied: attrs>=21.3.0 in c:\\users\\student\\appdata\\roaming\\python\\python38\\site-packages (from Twisted>=18.9.0->scrapy) (24.2.0)\n",
      "Requirement already satisfied: automat>=0.8.0 in c:\\users\\student\\appdata\\roaming\\python\\python38\\site-packages (from Twisted>=18.9.0->scrapy) (24.8.1)\n",
      "Requirement already satisfied: hyperlink>=17.1.1 in c:\\users\\student\\appdata\\roaming\\python\\python38\\site-packages (from Twisted>=18.9.0->scrapy) (21.0.0)\n",
      "Requirement already satisfied: typing-extensions>=4.2.0 in c:\\users\\student\\appdata\\roaming\\python\\python38\\site-packages (from Twisted>=18.9.0->scrapy) (4.12.2)\n",
      "Requirement already satisfied: constantly>=15.1 in c:\\users\\student\\appdata\\roaming\\python\\python38\\site-packages (from Twisted>=18.9.0->scrapy) (23.10.4)\n",
      "Requirement already satisfied: incremental>=24.7.0 in c:\\users\\student\\appdata\\roaming\\python\\python38\\site-packages (from Twisted>=18.9.0->scrapy) (24.7.2)\n",
      "Requirement already satisfied: jmespath>=0.9.5 in c:\\programdata\\anaconda3\\lib\\site-packages (from itemloaders>=1.0.1->scrapy) (1.0.1)\n",
      "Requirement already satisfied: pyparsing>=2.0.2 in c:\\programdata\\anaconda3\\lib\\site-packages (from packaging->scrapy) (2.4.7)\n",
      "Requirement already satisfied: six in c:\\programdata\\anaconda3\\lib\\site-packages (from packaging->scrapy) (1.15.0)\n",
      "Requirement already satisfied: pyasn1-modules in c:\\users\\student\\appdata\\roaming\\python\\python38\\site-packages (from service-identity>=18.1.0->scrapy) (0.4.1)\n",
      "Requirement already satisfied: pyasn1 in c:\\programdata\\anaconda3\\lib\\site-packages (from service-identity>=18.1.0->scrapy) (0.6.1)\n",
      "Requirement already satisfied: requests-file>=1.4 in c:\\programdata\\anaconda3\\lib\\site-packages (from tldextract->scrapy) (2.1.0)\n",
      "Requirement already satisfied: filelock>=3.0.8 in c:\\programdata\\anaconda3\\lib\\site-packages (from tldextract->scrapy) (3.0.12)\n",
      "Requirement already satisfied: idna in c:\\programdata\\anaconda3\\lib\\site-packages (from tldextract->scrapy) (2.10)\n",
      "Requirement already satisfied: requests>=2.1.0 in c:\\programdata\\anaconda3\\lib\\site-packages (from tldextract->scrapy) (2.24.0)\n",
      "Requirement already satisfied: cffi>=1.12; platform_python_implementation != \"PyPy\" in c:\\programdata\\anaconda3\\lib\\site-packages (from cryptography>=36.0.0->scrapy) (1.14.3)\n",
      "Requirement already satisfied: tomli; python_version < \"3.11\" in c:\\users\\student\\appdata\\roaming\\python\\python38\\site-packages (from incremental>=24.7.0->Twisted>=18.9.0->scrapy) (2.0.1)\n",
      "Requirement already satisfied: urllib3!=1.25.0,!=1.25.1,<1.26,>=1.21.1 in c:\\programdata\\anaconda3\\lib\\site-packages (from requests>=2.1.0->tldextract->scrapy) (1.25.11)\n",
      "Requirement already satisfied: certifi>=2017.4.17 in c:\\programdata\\anaconda3\\lib\\site-packages (from requests>=2.1.0->tldextract->scrapy) (2020.6.20)\n",
      "Requirement already satisfied: chardet<4,>=3.0.2 in c:\\programdata\\anaconda3\\lib\\site-packages (from requests>=2.1.0->tldextract->scrapy) (3.0.4)\n",
      "Requirement already satisfied: pycparser in c:\\programdata\\anaconda3\\lib\\site-packages (from cffi>=1.12; platform_python_implementation != \"PyPy\"->cryptography>=36.0.0->scrapy) (2.20)\n"
     ]
    }
   ],
   "source": [
    "#Cài đặt thư viện scrapy vào hệ thống:\n",
    "#!pip install --user <tên thư viện>\n",
    "!pip install --user scrapy"
   ]
  },
  {
   "cell_type": "code",
   "execution_count": 68,
   "metadata": {},
   "outputs": [
    {
     "name": "stdout",
     "output_type": "stream",
     "text": [
      "Requirement already satisfied: opencv-python in c:\\programdata\\anaconda3\\lib\\site-packages (4.10.0.84)\n",
      "Requirement already satisfied: numpy>=1.17.3; python_version >= \"3.8\" in c:\\programdata\\anaconda3\\lib\\site-packages (from opencv-python) (1.19.2)\n"
     ]
    }
   ],
   "source": [
    "!pip install opencv-python"
   ]
  },
  {
   "cell_type": "code",
   "execution_count": 70,
   "metadata": {},
   "outputs": [
    {
     "name": "stdout",
     "output_type": "stream",
     "text": [
      "Collecting numpy\n",
      "  Downloading numpy-1.24.4-cp38-cp38-win_amd64.whl (14.9 MB)\n",
      "Installing collected packages: numpy\n",
      "Successfully installed numpy-1.24.4\n"
     ]
    },
    {
     "name": "stderr",
     "output_type": "stream",
     "text": [
      "  WARNING: The script f2py.exe is installed in 'C:\\Users\\Student\\AppData\\Roaming\\Python\\Python38\\Scripts' which is not on PATH.\n",
      "  Consider adding this directory to PATH or, if you prefer to suppress this warning, use --no-warn-script-location.\n"
     ]
    }
   ],
   "source": [
    "#Update thư viện\n",
    "\n",
    "#!pip install --user <ten thu vien > --upgrade\n",
    "!pip install --user numpy --upgrade"
   ]
  },
  {
   "cell_type": "markdown",
   "metadata": {
    "colab_type": "text",
    "id": "TF7j-maO6XfF"
   },
   "source": [
    "## II) LÀM VIỆC VỚI THƯ VIỆN NUMPY"
   ]
  },
  {
   "cell_type": "markdown",
   "metadata": {
    "colab_type": "text",
    "id": "ksVfGFNt6zzJ"
   },
   "source": [
    "### II.1) KHỞI TẠO MẢNG VỚI NUMPY\n",
    "---"
   ]
  },
  {
   "cell_type": "markdown",
   "metadata": {},
   "source": [
    "### II.1.1 Khởi tạo mảng 1D, 2D, 3D\n",
    "---\n",
    "#### a) Mảng 1 chiều (1D)"
   ]
  },
  {
   "cell_type": "code",
   "execution_count": 81,
   "metadata": {},
   "outputs": [
    {
     "name": "stdout",
     "output_type": "stream",
     "text": [
      "[ 1.   2.   5.5  7.   0.   8.  12.  20.   8. ]\n",
      "Loại dữ liệu của biến a: <class 'numpy.ndarray'>\n",
      "Kiểu dữ liệu của phần tử trong mảng a: float64\n",
      "Kích thước của mảng a: (9,)\n",
      "Số phần tử của mảng a: 9\n",
      "Số chiều của mảng a: 1\n"
     ]
    }
   ],
   "source": [
    "#Khởi tạo mảng 1 chiều với thư viên Numpy\n",
    "import numpy as np\n",
    "\n",
    "#Tạo mảng 1 chiều (1D) - row\n",
    "a = np.array([1, 2, 5.5, 7, 0, 8, 12, 20, 8])\n",
    "\n",
    "print(a)\n",
    "print(\"Loại dữ liệu của biến a:\", type(a))\n",
    "print(\"Kiểu dữ liệu của phần tử trong mảng a:\", a.dtype)\n",
    "print(\"Kích thước của mảng a:\", a.shape)\n",
    "print(\"Số phần tử của mảng a:\", a.size)\n",
    "print(\"Số chiều của mảng a:\", a.ndim)"
   ]
  },
  {
   "cell_type": "code",
   "execution_count": 82,
   "metadata": {},
   "outputs": [
    {
     "name": "stdout",
     "output_type": "stream",
     "text": [
      "<class 'float'>\n"
     ]
    }
   ],
   "source": [
    "#Danh sách\n",
    "ds = [1, 2.5, '5', 7, 0, 8, 12, 20, -1]\n",
    "print(type(ds[1]))"
   ]
  },
  {
   "cell_type": "code",
   "execution_count": 83,
   "metadata": {},
   "outputs": [
    {
     "name": "stdout",
     "output_type": "stream",
     "text": [
      "Danh sách list_a: [7, 6, 5, 7, 12, 1]\n",
      "<class 'list'>\n",
      "------------------------------------\n",
      "Mảng array_a: [ 7  6  5  7 12  1]\n",
      "Loại dữ liệu của biến array_a: <class 'numpy.ndarray'>\n",
      "Kiểu dữ liệu của phần tử trong mảng array_a: int32\n",
      "Kích thước của mảng array_a: (6,)\n",
      "Số phần tử của mảng array_a: 6\n",
      "Số chiều của mảng array_a: 1\n"
     ]
    }
   ],
   "source": [
    "import numpy as np\n",
    "#Chuyển đổi từ biến kiểu list sang biến mảng\n",
    "list_a = [7, 6, 5, 7, 12, 1]\n",
    "print(\"Danh sách list_a:\", list_a)\n",
    "print(type(list_a))\n",
    "\n",
    "print('------------------------------------')\n",
    "#chuyển sang kiểu array\n",
    "array_a = np.array(list_a)\n",
    "\n",
    "print(\"Mảng array_a:\", array_a)\n",
    "print(\"Loại dữ liệu của biến array_a:\", type(array_a))\n",
    "print(\"Kiểu dữ liệu của phần tử trong mảng array_a:\", array_a.dtype)\n",
    "print(\"Kích thước của mảng array_a:\", array_a.shape)\n",
    "print(\"Số phần tử của mảng array_a:\", array_a.size)\n",
    "print(\"Số chiều của mảng array_a:\", array_a.ndim)"
   ]
  },
  {
   "cell_type": "markdown",
   "metadata": {},
   "source": [
    "#### b) Mảng 2 chiều (2D - Ma trận)"
   ]
  },
  {
   "cell_type": "code",
   "execution_count": 84,
   "metadata": {},
   "outputs": [
    {
     "name": "stdout",
     "output_type": "stream",
     "text": [
      "[[ 4  5  6]\n",
      " [ 1  2  3]\n",
      " [ 7  8 10]\n",
      " [11  0  8]]\n",
      "Loại dữ liệu của biến b: <class 'numpy.ndarray'>\n",
      "Kiểu dữ liệu của phần tử trong mảng b: int32\n",
      "Kích thước của mảng b: (4, 3)\n",
      "Số phần tử của mảng b: 12\n",
      "Số chiều của mảng b: 2\n"
     ]
    }
   ],
   "source": [
    "#Gọi thư viện numpy\n",
    "import numpy as np\n",
    "\n",
    "#Tạo mảng 2 chiều (2D - Ma trận)\n",
    "b = np.array([(4, 5, 6),\n",
    "              (1, 2, 3),\n",
    "              (7, 8, 10),\n",
    "              (11, 0, 8)])\n",
    "\n",
    "print(b)\n",
    "print(\"Loại dữ liệu của biến b:\", type(b))\n",
    "print(\"Kiểu dữ liệu của phần tử trong mảng b:\", b.dtype)\n",
    "print(\"Kích thước của mảng b:\", b.shape)\n",
    "print(\"Số phần tử của mảng b:\", b.size)\n",
    "print(\"Số chiều của mảng b:\", b.ndim)"
   ]
  },
  {
   "cell_type": "code",
   "execution_count": 85,
   "metadata": {},
   "outputs": [
    {
     "name": "stdout",
     "output_type": "stream",
     "text": [
      "[[4 4 4]\n",
      " [4 4 4]\n",
      " [4 4 4]\n",
      " [4 4 4]\n",
      " [4 4 4]]\n"
     ]
    }
   ],
   "source": [
    "#Học viên Tạo 1 ma trận (5x3): các phần tử đều = 4\n",
    "\n",
    "import numpy as np\n",
    "\n",
    "# Tạo ma trận 5x3 với tất cả các phần tử bằng 4\n",
    "matrix = np.full((5, 3), 4)\n",
    "\n",
    "# In ma trận\n",
    "print(matrix)\n",
    "\n",
    "\n",
    "\n",
    "\n",
    "\n",
    "\n"
   ]
  },
  {
   "cell_type": "markdown",
   "metadata": {},
   "source": [
    "#### c) Mảng 3 chiều (3D)"
   ]
  },
  {
   "cell_type": "code",
   "execution_count": 86,
   "metadata": {},
   "outputs": [
    {
     "name": "stdout",
     "output_type": "stream",
     "text": [
      "[[[2 4 0 6]\n",
      "  [4 7 5 6]]\n",
      "\n",
      " [[0 3 2 1]\n",
      "  [9 4 5 6]]\n",
      "\n",
      " [[5 8 6 4]\n",
      "  [1 4 6 8]]]\n",
      "Loại dữ liệu của biến c: <class 'numpy.ndarray'>\n",
      "Kiểu dữ liệu của phần tử trong mảng c: int32\n",
      "Kích thước của mảng c: (3, 2, 4)\n",
      "Số phần tử của mảng c: 24\n",
      "Số chiều của mảng c: 3\n"
     ]
    }
   ],
   "source": [
    "#Gọi thư viện numpy\n",
    "import numpy as np\n",
    "\n",
    "#Tạo mảng 3 chiều (3D)\n",
    "c = np.array([[(2, 4, 0, 6),(4, 7, 5, 6)],\n",
    "             [(0, 3, 2, 1),(9, 4, 5, 6)],\n",
    "             [(5, 8, 6, 4),(1, 4, 6, 8)]])\n",
    "\n",
    "print(c)\n",
    "print(\"Loại dữ liệu của biến c:\", type(b))\n",
    "print(\"Kiểu dữ liệu của phần tử trong mảng c:\", c.dtype)\n",
    "print(\"Kích thước của mảng c:\", c.shape)\n",
    "print(\"Số phần tử của mảng c:\", c.size)\n",
    "print(\"Số chiều của mảng c:\", c.ndim)"
   ]
  },
  {
   "cell_type": "code",
   "execution_count": 88,
   "metadata": {},
   "outputs": [
    {
     "data": {
      "image/png": "[encoded data removed]",
      "text/plain": [
       "<Figure size 432x288 with 1 Axes>"
      ]
     },
     "metadata": {
      "needs_background": "light"
     },
     "output_type": "display_data"
    },
    {
     "data": {
      "text/plain": [
       "(1080, 540, 3)"
      ]
     },
     "execution_count": 88,
     "metadata": {},
     "output_type": "execute_result"
    }
   ],
   "source": [
    "#Dữ liệu ảnh --> 1 Ma trận (ảnh màu ma trận 3 chiều| Ảnh xám ma trận 1 chiều)\n",
    "import cv2\n",
    "import matplotlib.pyplot as plt\n",
    "\n",
    "\n",
    "img = cv2.imread('img.jpg')\n",
    "\n",
    "#img1 = cv2.cvtColor(img, cv2.COLOR_BGR2RGB)\n",
    "plt.imshow(cv2.cvtColor(img, cv2.COLOR_BGR2RGB))\n",
    "plt.show()\n",
    "\n",
    "\n",
    "img.shape"
   ]
  },
  {
   "cell_type": "code",
   "execution_count": 89,
   "metadata": {},
   "outputs": [
    {
     "data": {
      "text/plain": [
       "array([[14, 15, 16, ..., 14, 14, 13],\n",
       "       [16, 15, 15, ..., 13, 13, 13],\n",
       "       [17, 16, 15, ..., 12, 13, 13],\n",
       "       ...,\n",
       "       [14, 14, 15, ..., 13, 14, 14],\n",
       "       [14, 14, 15, ..., 14, 13, 13],\n",
       "       [14, 14, 15, ..., 14, 13, 12]], dtype=uint8)"
      ]
     },
     "execution_count": 89,
     "metadata": {},
     "output_type": "execute_result"
    }
   ],
   "source": [
    "#màu Blue\n",
    "img[:,:,0]"
   ]
  },
  {
   "cell_type": "code",
   "execution_count": 90,
   "metadata": {},
   "outputs": [
    {
     "data": {
      "text/plain": [
       "array([[ 9, 10, 11, ...,  9,  9,  8],\n",
       "       [11, 10, 10, ...,  8,  8,  8],\n",
       "       [12, 11, 10, ...,  7,  8,  8],\n",
       "       ...,\n",
       "       [ 9,  9, 10, ...,  8,  9,  9],\n",
       "       [ 9,  9, 10, ...,  9,  8,  8],\n",
       "       [ 9,  9, 10, ...,  9,  8,  7]], dtype=uint8)"
      ]
     },
     "execution_count": 90,
     "metadata": {},
     "output_type": "execute_result"
    }
   ],
   "source": [
    "#Màu Green\n",
    "img[:,:,1]"
   ]
  },
  {
   "cell_type": "code",
   "execution_count": 91,
   "metadata": {},
   "outputs": [
    {
     "data": {
      "text/plain": [
       "array([[ 8,  9, 10, ...,  8,  8,  7],\n",
       "       [10,  9,  9, ...,  7,  7,  7],\n",
       "       [11, 10,  9, ...,  6,  7,  7],\n",
       "       ...,\n",
       "       [ 8,  8,  9, ...,  7,  8,  8],\n",
       "       [ 8,  8,  9, ...,  8,  7,  7],\n",
       "       [ 8,  8,  9, ...,  8,  7,  6]], dtype=uint8)"
      ]
     },
     "execution_count": 91,
     "metadata": {},
     "output_type": "execute_result"
    }
   ],
   "source": [
    "#Màu Red\n",
    "img[:,:,2]"
   ]
  },
  {
   "cell_type": "markdown",
   "metadata": {},
   "source": [
    "### II.1.2) Khởi tạo mảng với các hàm sẵn có của Numpy\n",
    "---\n",
    "<img src='Pic/array.png' width='600x'>"
   ]
  },
  {
   "cell_type": "code",
   "execution_count": 92,
   "metadata": {},
   "outputs": [
    {
     "name": "stdout",
     "output_type": "stream",
     "text": [
      "[[0. 0. 0. 0.]\n",
      " [0. 0. 0. 0.]\n",
      " [0. 0. 0. 0.]\n",
      " [0. 0. 0. 0.]\n",
      " [0. 0. 0. 0.]\n",
      " [0. 0. 0. 0.]\n",
      " [0. 0. 0. 0.]\n",
      " [0. 0. 0. 0.]\n",
      " [0. 0. 0. 0.]\n",
      " [0. 0. 0. 0.]]\n",
      "Kiểu dữ liệu trong mảng array_zeros: float64\n",
      "Kích thước của mảng array_zeros: (10, 4)\n",
      "Số phần tử của mảng array_zeros: 40\n",
      "Số chiều của mảng array_zeros: 2\n"
     ]
    }
   ],
   "source": [
    "# 1) Phương thức zeros: Tạo ma trận 0 kích thước 5 hàng x 3 cột\n",
    "import numpy as np\n",
    "\n",
    "array_zeros = np.zeros((10,4))\n",
    "print(array_zeros)\n",
    "print(\"Kiểu dữ liệu trong mảng array_zeros:\", array_zeros.dtype)\n",
    "print(\"Kích thước của mảng array_zeros:\", array_zeros.shape)\n",
    "print(\"Số phần tử của mảng array_zeros:\", array_zeros.size)\n",
    "print(\"Số chiều của mảng array_zeros:\", array_zeros.ndim)"
   ]
  },
  {
   "cell_type": "code",
   "execution_count": 93,
   "metadata": {},
   "outputs": [
    {
     "data": {
      "text/plain": [
       "array([0, 0, 0, 0, 0, 0, 0, 0, 0, 0])"
      ]
     },
     "execution_count": 93,
     "metadata": {},
     "output_type": "execute_result"
    }
   ],
   "source": [
    "#Thuộc tính dtype xác định kiểu dữ liệu của phần tử muốn tạo\n",
    "#Mặc định kiểu dữ liệu các phần tử là float\n",
    "\n",
    "vector_zeros = np.zeros(10,dtype=np.int32)\n",
    "vector_zeros"
   ]
  },
  {
   "cell_type": "code",
   "execution_count": 94,
   "metadata": {},
   "outputs": [
    {
     "name": "stdout",
     "output_type": "stream",
     "text": [
      "[[1 1 1 1 1]\n",
      " [1 1 1 1 1]\n",
      " [1 1 1 1 1]]\n",
      "Kiểu dữ liệu trong mảng array_one: int8\n",
      "Kích thước của mảng array_one: (3, 5)\n",
      "Số phần tử của mảng array_one: 15\n",
      "Số chiều của mảng array_one: 2\n"
     ]
    }
   ],
   "source": [
    "# 2) Phương thức ones: Tạo ma trận 1 kích thước 3 hàng x 5 cột\n",
    "import numpy as np\n",
    "\n",
    "array_one = np.ones((3, 5),dtype=np.int8)\n",
    "\n",
    "print(array_one)\n",
    "print(\"Kiểu dữ liệu trong mảng array_one:\", array_one.dtype)\n",
    "print(\"Kích thước của mảng array_one:\", array_one.shape)\n",
    "print(\"Số phần tử của mảng array_one:\", array_one.size)\n",
    "print(\"Số chiều của mảng array_one:\", array_one.ndim)"
   ]
  },
  {
   "cell_type": "code",
   "execution_count": null,
   "metadata": {},
   "outputs": [],
   "source": []
  },
  {
   "cell_type": "code",
   "execution_count": 95,
   "metadata": {},
   "outputs": [
    {
     "name": "stdout",
     "output_type": "stream",
     "text": [
      "[[1. 0. 0. 0. 0. 0. 0. 0. 0. 0. 0. 0. 0. 0. 0.]\n",
      " [0. 1. 0. 0. 0. 0. 0. 0. 0. 0. 0. 0. 0. 0. 0.]\n",
      " [0. 0. 1. 0. 0. 0. 0. 0. 0. 0. 0. 0. 0. 0. 0.]\n",
      " [0. 0. 0. 1. 0. 0. 0. 0. 0. 0. 0. 0. 0. 0. 0.]\n",
      " [0. 0. 0. 0. 1. 0. 0. 0. 0. 0. 0. 0. 0. 0. 0.]\n",
      " [0. 0. 0. 0. 0. 1. 0. 0. 0. 0. 0. 0. 0. 0. 0.]\n",
      " [0. 0. 0. 0. 0. 0. 1. 0. 0. 0. 0. 0. 0. 0. 0.]\n",
      " [0. 0. 0. 0. 0. 0. 0. 1. 0. 0. 0. 0. 0. 0. 0.]\n",
      " [0. 0. 0. 0. 0. 0. 0. 0. 1. 0. 0. 0. 0. 0. 0.]\n",
      " [0. 0. 0. 0. 0. 0. 0. 0. 0. 1. 0. 0. 0. 0. 0.]\n",
      " [0. 0. 0. 0. 0. 0. 0. 0. 0. 0. 1. 0. 0. 0. 0.]\n",
      " [0. 0. 0. 0. 0. 0. 0. 0. 0. 0. 0. 1. 0. 0. 0.]\n",
      " [0. 0. 0. 0. 0. 0. 0. 0. 0. 0. 0. 0. 1. 0. 0.]\n",
      " [0. 0. 0. 0. 0. 0. 0. 0. 0. 0. 0. 0. 0. 1. 0.]\n",
      " [0. 0. 0. 0. 0. 0. 0. 0. 0. 0. 0. 0. 0. 0. 1.]]\n",
      "Kiểu dữ liệu của phần tử trong mảng array_eye: float64\n",
      "Kích thước của mảng array_eye: (15, 15)\n",
      "Số phần tử của mảng array_eye: 225\n",
      "Số chiều của mảng array_eye: 2\n"
     ]
    }
   ],
   "source": [
    "# 3) Phương thức eye: Tạo ma trận đơn vị cấp 5\n",
    "import numpy as np\n",
    "array_eye = np.eye(15)\n",
    "\n",
    "print(array_eye)\n",
    "print(\"Kiểu dữ liệu của phần tử trong mảng array_eye:\", array_eye.dtype)\n",
    "print(\"Kích thước của mảng array_eye:\", array_eye.shape)\n",
    "print(\"Số phần tử của mảng array_eye:\", array_eye.size)\n",
    "print(\"Số chiều của mảng array_eye:\", array_eye.ndim)"
   ]
  },
  {
   "cell_type": "code",
   "execution_count": null,
   "metadata": {},
   "outputs": [],
   "source": []
  },
  {
   "cell_type": "code",
   "execution_count": 96,
   "metadata": {},
   "outputs": [
    {
     "name": "stdout",
     "output_type": "stream",
     "text": [
      "[[0.67709671 0.52428171 0.4287256  0.96632291 0.38094241 0.3708032 ]\n",
      " [0.53911179 0.06946305 0.95623323 0.74822459 0.08845509 0.88170704]\n",
      " [0.09956775 0.0325474  0.44574557 0.00392926 0.33524792 0.34670242]\n",
      " [0.86163008 0.16598862 0.49451703 0.18702228 0.73839604 0.71690304]\n",
      " [0.25238732 0.3712313  0.79265753 0.55359817 0.64369667 0.93337899]\n",
      " [0.86983604 0.06401185 0.93150189 0.85602723 0.36761188 0.46939915]]\n",
      "Kiểu dữ liệu của phần tử trong mảng array_random: float64\n",
      "Kích thước của mảng array_random: (6, 6)\n",
      "Số phần tử của mảng array_random: 36\n",
      "Số chiều của mảng array_random: 2\n"
     ]
    }
   ],
   "source": [
    "#4) Phương thức random: Tạo một ma trận (7x5) các phần tử ngẫu nhiên [0,1]\n",
    "import numpy as np\n",
    "array_random = np.random.random((6,6))\n",
    "\n",
    "print(array_random)\n",
    "print(\"Kiểu dữ liệu của phần tử trong mảng array_random:\", array_random.dtype)\n",
    "print(\"Kích thước của mảng array_random:\", array_random.shape)\n",
    "print(\"Số phần tử của mảng array_random:\", array_random.size)\n",
    "print(\"Số chiều của mảng array_random:\", array_random.ndim)"
   ]
  },
  {
   "cell_type": "code",
   "execution_count": 97,
   "metadata": {},
   "outputs": [
    {
     "name": "stdout",
     "output_type": "stream",
     "text": [
      "[122 129 106 101 100 103 107 124 129 119 110 111 128 110 114 107]\n"
     ]
    }
   ],
   "source": [
    "#5) Phương thức randint:\n",
    "#Tạo một vector các phần tử là số nguyên ngẫu nhiên trong khoảng [low,hight)\n",
    "import numpy as np\n",
    "vector_a = np.random.randint(100, 130,16)\n",
    "print(vector_a)"
   ]
  },
  {
   "cell_type": "code",
   "execution_count": 98,
   "metadata": {},
   "outputs": [
    {
     "name": "stdout",
     "output_type": "stream",
     "text": [
      "[[28 14 15 11 10]\n",
      " [16 24 25 28 20]\n",
      " [23 14 25 10 10]]\n"
     ]
    }
   ],
   "source": [
    "#Tạo một ma trận (3,5) các phần tử là số nguyên ngẫu nhiên\n",
    "import numpy as np\n",
    "array_a = np.random.randint(10, 30,(3,5))\n",
    "print(array_a)"
   ]
  },
  {
   "cell_type": "code",
   "execution_count": 100,
   "metadata": {},
   "outputs": [
    {
     "name": "stdout",
     "output_type": "stream",
     "text": [
      "Vector d: [13 16 19 22]\n",
      "Số phần tử của vector d: 4\n"
     ]
    }
   ],
   "source": [
    "#6) Phương thức arange(a, b, steps): \n",
    "import numpy as np\n",
    "#Tạo vector:\n",
    "# kết thúc <b, \n",
    "# mỗi phần tử cách nhau một khoảng = steps (=1)\n",
    "d = np.arange(13,25,3)\n",
    "print('Vector d:', d)\n",
    "print(\"Số phần tử của vector d:\", d.size)"
   ]
  },
  {
   "cell_type": "code",
   "execution_count": 101,
   "metadata": {},
   "outputs": [
    {
     "name": "stdout",
     "output_type": "stream",
     "text": [
      "Vector f: [ 1.          1.48275862  1.96551724  2.44827586  2.93103448  3.4137931\n",
      "  3.89655172  4.37931034  4.86206897  5.34482759  5.82758621  6.31034483\n",
      "  6.79310345  7.27586207  7.75862069  8.24137931  8.72413793  9.20689655\n",
      "  9.68965517 10.17241379 10.65517241 11.13793103 11.62068966 12.10344828\n",
      " 12.5862069  13.06896552 13.55172414 14.03448276 14.51724138 15.        ]\n",
      "Số phần tử của vector f: 30\n"
     ]
    }
   ],
   "source": [
    "#7) Phương thức linspace(a, b, num)\n",
    "#Tạo vector:\n",
    "#Phần tử đầu tiên  = a, \n",
    "#Phần tử kết thúc  = b, \n",
    "#Số phần tử của ma trận = num\n",
    "f = np.linspace(1,15,30)\n",
    "print('Vector f:', f)\n",
    "print(\"Số phần tử của vector f:\", f.size)"
   ]
  },
  {
   "cell_type": "code",
   "execution_count": 102,
   "metadata": {},
   "outputs": [
    {
     "data": {
      "text/plain": [
       "array([[3.14159265, 3.14159265, 3.14159265, 3.14159265],\n",
       "       [3.14159265, 3.14159265, 3.14159265, 3.14159265],\n",
       "       [3.14159265, 3.14159265, 3.14159265, 3.14159265]])"
      ]
     },
     "execution_count": 102,
     "metadata": {},
     "output_type": "execute_result"
    }
   ],
   "source": [
    "# 8) Create a 3x5 array filled with 3.14\n",
    "import math\n",
    "np.full((3, 4),math.pi)"
   ]
  },
  {
   "cell_type": "code",
   "execution_count": 103,
   "metadata": {},
   "outputs": [
    {
     "data": {
      "text/plain": [
       "array([[2021, 2021, 2021, 2021, 2021, 2021, 2021, 2021],\n",
       "       [2021, 2021, 2021, 2021, 2021, 2021, 2021, 2021],\n",
       "       [2021, 2021, 2021, 2021, 2021, 2021, 2021, 2021],\n",
       "       [2021, 2021, 2021, 2021, 2021, 2021, 2021, 2021],\n",
       "       [2021, 2021, 2021, 2021, 2021, 2021, 2021, 2021],\n",
       "       [2021, 2021, 2021, 2021, 2021, 2021, 2021, 2021],\n",
       "       [2021, 2021, 2021, 2021, 2021, 2021, 2021, 2021],\n",
       "       [2021, 2021, 2021, 2021, 2021, 2021, 2021, 2021],\n",
       "       [2021, 2021, 2021, 2021, 2021, 2021, 2021, 2021],\n",
       "       [2021, 2021, 2021, 2021, 2021, 2021, 2021, 2021],\n",
       "       [2021, 2021, 2021, 2021, 2021, 2021, 2021, 2021],\n",
       "       [2021, 2021, 2021, 2021, 2021, 2021, 2021, 2021],\n",
       "       [2021, 2021, 2021, 2021, 2021, 2021, 2021, 2021],\n",
       "       [2021, 2021, 2021, 2021, 2021, 2021, 2021, 2021],\n",
       "       [2021, 2021, 2021, 2021, 2021, 2021, 2021, 2021]])"
      ]
     },
     "execution_count": 103,
     "metadata": {},
     "output_type": "execute_result"
    }
   ],
   "source": [
    "np.full((15, 8),2021)"
   ]
  },
  {
   "cell_type": "markdown",
   "metadata": {},
   "source": [
    "### II.1.3) Đọc dữ liệu lưu trữ từ file .txt vào mảng\n",
    "---\n",
    "<img src='Pic/diem2a.jpg' width='800px'>\n",
    "\n",
    "**Lưu ý:** Các file dữ liệu được để trong thư mục Data_Excercise cùng cấp với file code"
   ]
  },
  {
   "cell_type": "code",
   "execution_count": 82,
   "metadata": {
    "colab": {},
    "colab_type": "code",
    "id": "tu9CMzc767_Q"
   },
   "outputs": [
    {
     "ename": "ValueError",
     "evalue": "could not convert string '25.65 24.79 24.01 25.06 25.48 24.97' to int8 at row 0, column 1.",
     "output_type": "error",
     "traceback": [
      "\u001b[1;31m---------------------------------------------------------------------------\u001b[0m",
      "\u001b[1;31mValueError\u001b[0m                                Traceback (most recent call last)",
      "\u001b[1;32m<ipython-input-82-797e9e3e979e>\u001b[0m in \u001b[0;36m<module>\u001b[1;34m\u001b[0m\n\u001b[0;32m      3\u001b[0m \u001b[1;31m#Đọc dữ liệu từ file Diem_2A.txt\u001b[0m\u001b[1;33m\u001b[0m\u001b[1;33m\u001b[0m\u001b[1;33m\u001b[0m\u001b[0m\n\u001b[0;32m      4\u001b[0m \u001b[0mpath\u001b[0m  \u001b[1;33m=\u001b[0m\u001b[1;34m'Data_Excercise\\Temp.txt'\u001b[0m\u001b[1;33m\u001b[0m\u001b[1;33m\u001b[0m\u001b[0m\n\u001b[1;32m----> 5\u001b[1;33m \u001b[0mtemp\u001b[0m \u001b[1;33m=\u001b[0m \u001b[0mnp\u001b[0m\u001b[1;33m.\u001b[0m\u001b[0mloadtxt\u001b[0m\u001b[1;33m(\u001b[0m\u001b[0mpath\u001b[0m\u001b[1;33m,\u001b[0m\u001b[0mdelimiter\u001b[0m\u001b[1;33m=\u001b[0m\u001b[1;34m','\u001b[0m\u001b[1;33m,\u001b[0m\u001b[0mdtype\u001b[0m\u001b[1;33m=\u001b[0m\u001b[0mnp\u001b[0m\u001b[1;33m.\u001b[0m\u001b[0mint8\u001b[0m\u001b[1;33m)\u001b[0m\u001b[1;33m\u001b[0m\u001b[1;33m\u001b[0m\u001b[0m\n\u001b[0m\u001b[0;32m      6\u001b[0m \u001b[1;33m\u001b[0m\u001b[0m\n\u001b[0;32m      7\u001b[0m \u001b[0mprint\u001b[0m\u001b[1;33m(\u001b[0m\u001b[0mtemp\u001b[0m\u001b[1;33m)\u001b[0m\u001b[1;33m\u001b[0m\u001b[1;33m\u001b[0m\u001b[0m\n",
      "\u001b[1;32m~\\AppData\\Roaming\\Python\\Python38\\site-packages\\numpy\\lib\\npyio.py\u001b[0m in \u001b[0;36mloadtxt\u001b[1;34m(fname, dtype, comments, delimiter, converters, skiprows, usecols, unpack, ndmin, encoding, max_rows, quotechar, like)\u001b[0m\n\u001b[0;32m   1354\u001b[0m         \u001b[0mdelimiter\u001b[0m \u001b[1;33m=\u001b[0m \u001b[0mdelimiter\u001b[0m\u001b[1;33m.\u001b[0m\u001b[0mdecode\u001b[0m\u001b[1;33m(\u001b[0m\u001b[1;34m'latin1'\u001b[0m\u001b[1;33m)\u001b[0m\u001b[1;33m\u001b[0m\u001b[1;33m\u001b[0m\u001b[0m\n\u001b[0;32m   1355\u001b[0m \u001b[1;33m\u001b[0m\u001b[0m\n\u001b[1;32m-> 1356\u001b[1;33m     arr = _read(fname, dtype=dtype, comment=comment, delimiter=delimiter,\n\u001b[0m\u001b[0;32m   1357\u001b[0m                 \u001b[0mconverters\u001b[0m\u001b[1;33m=\u001b[0m\u001b[0mconverters\u001b[0m\u001b[1;33m,\u001b[0m \u001b[0mskiplines\u001b[0m\u001b[1;33m=\u001b[0m\u001b[0mskiprows\u001b[0m\u001b[1;33m,\u001b[0m \u001b[0musecols\u001b[0m\u001b[1;33m=\u001b[0m\u001b[0musecols\u001b[0m\u001b[1;33m,\u001b[0m\u001b[1;33m\u001b[0m\u001b[1;33m\u001b[0m\u001b[0m\n\u001b[0;32m   1358\u001b[0m                 \u001b[0munpack\u001b[0m\u001b[1;33m=\u001b[0m\u001b[0munpack\u001b[0m\u001b[1;33m,\u001b[0m \u001b[0mndmin\u001b[0m\u001b[1;33m=\u001b[0m\u001b[0mndmin\u001b[0m\u001b[1;33m,\u001b[0m \u001b[0mencoding\u001b[0m\u001b[1;33m=\u001b[0m\u001b[0mencoding\u001b[0m\u001b[1;33m,\u001b[0m\u001b[1;33m\u001b[0m\u001b[1;33m\u001b[0m\u001b[0m\n",
      "\u001b[1;32m~\\AppData\\Roaming\\Python\\Python38\\site-packages\\numpy\\lib\\npyio.py\u001b[0m in \u001b[0;36m_read\u001b[1;34m(fname, delimiter, comment, quote, imaginary_unit, usecols, skiplines, max_rows, converters, ndmin, unpack, dtype, encoding)\u001b[0m\n\u001b[0;32m    997\u001b[0m \u001b[1;33m\u001b[0m\u001b[0m\n\u001b[0;32m    998\u001b[0m         \u001b[1;32mif\u001b[0m \u001b[0mread_dtype_via_object_chunks\u001b[0m \u001b[1;32mis\u001b[0m \u001b[1;32mNone\u001b[0m\u001b[1;33m:\u001b[0m\u001b[1;33m\u001b[0m\u001b[1;33m\u001b[0m\u001b[0m\n\u001b[1;32m--> 999\u001b[1;33m             arr = _load_from_filelike(\n\u001b[0m\u001b[0;32m   1000\u001b[0m                 \u001b[0mdata\u001b[0m\u001b[1;33m,\u001b[0m \u001b[0mdelimiter\u001b[0m\u001b[1;33m=\u001b[0m\u001b[0mdelimiter\u001b[0m\u001b[1;33m,\u001b[0m \u001b[0mcomment\u001b[0m\u001b[1;33m=\u001b[0m\u001b[0mcomment\u001b[0m\u001b[1;33m,\u001b[0m \u001b[0mquote\u001b[0m\u001b[1;33m=\u001b[0m\u001b[0mquote\u001b[0m\u001b[1;33m,\u001b[0m\u001b[1;33m\u001b[0m\u001b[1;33m\u001b[0m\u001b[0m\n\u001b[0;32m   1001\u001b[0m                 \u001b[0mimaginary_unit\u001b[0m\u001b[1;33m=\u001b[0m\u001b[0mimaginary_unit\u001b[0m\u001b[1;33m,\u001b[0m\u001b[1;33m\u001b[0m\u001b[1;33m\u001b[0m\u001b[0m\n",
      "\u001b[1;31mValueError\u001b[0m: could not convert string '25.65 24.79 24.01 25.06 25.48 24.97' to int8 at row 0, column 1."
     ]
    }
   ],
   "source": [
    "import numpy as np\n",
    "\n",
    "#Đọc dữ liệu từ file Diem_2A.txt\n",
    "path  ='Data_Excercise\\Diem_2A.txt'\n",
    "diem_2a = np.loadtxt(path,delimiter=',',dtype=np.int8)\n",
    "\n",
    "print(diem_2a)\n",
    "print(\"Kiểu dữ liệu của phần tử trong mảng diem_2a:\", diem_2a.dtype)\n",
    "print(\"Kích thước của mảng diem_2a:\", diem_2a.shape)\n",
    "print(\"Số phần tử của mảng diem_2a:\", diem_2a.size)\n",
    "print(\"Số chiều của mảng diem_2a:\", diem_2a.ndim)"
   ]
  },
  {
   "cell_type": "code",
   "execution_count": null,
   "metadata": {},
   "outputs": [],
   "source": [
    "\n",
    "print(\"Kiểu dữ liệu của phần tử trong mảng diem_2a:\", diem_2a.dtype)\n",
    "print(\"Kích thước của mảng diem_2a:\", diem_2a.shape)\n",
    "print(\"Số phần tử của mảng diem_2a:\", diem_2a.size)\n",
    "print(\"Số chiều của mảng diem_2a:\", diem_2a.ndim)"
   ]
  },
  {
   "cell_type": "markdown",
   "metadata": {
    "colab_type": "text",
    "id": "9VQ7U18w_XMr"
   },
   "source": [
    "### II.2) CÁC THAO TÁC VỚI MẢNG\n",
    "---\n",
    "### II.2.1 Hàm quan sát mảng"
   ]
  },
  {
   "cell_type": "code",
   "execution_count": 12,
   "metadata": {
    "colab": {
     "base_uri": "https://localhost:8080/",
     "height": 35
    },
    "colab_type": "code",
    "id": "MnZc42FA_b43",
    "outputId": "dbee536f-b336-4155-b8fd-e66068cd8b2f"
   },
   "outputs": [
    {
     "name": "stdout",
     "output_type": "stream",
     "text": [
      "kích thước của mảng diem_2a: (10, 30)\n"
     ]
    }
   ],
   "source": [
    "#a.shape: Cho biết kích thước của mảng a:\n",
    "print('kích thước của mảng diem_2a:', diem_2a.shape)"
   ]
  },
  {
   "cell_type": "code",
   "execution_count": 13,
   "metadata": {
    "colab": {},
    "colab_type": "code",
    "id": "s6N42V5lArDz"
   },
   "outputs": [
    {
     "name": "stdout",
     "output_type": "stream",
     "text": [
      "Số chiều của mảng diem_2a: 2\n"
     ]
    }
   ],
   "source": [
    "#a.ndim: Cho biết Số chiều của mảng a:\n",
    "print('Số chiều của mảng diem_2a:', diem_2a.ndim)"
   ]
  },
  {
   "cell_type": "code",
   "execution_count": 14,
   "metadata": {
    "colab": {},
    "colab_type": "code",
    "id": "RagL-6PtA4hU"
   },
   "outputs": [
    {
     "name": "stdout",
     "output_type": "stream",
     "text": [
      "Số phần tử của mảng diem_2a:  300\n"
     ]
    }
   ],
   "source": [
    "#a.size: Cho biết số phần tử của mảng a:\n",
    "print('Số phần tử của mảng diem_2a: ', diem_2a.size)"
   ]
  },
  {
   "cell_type": "code",
   "execution_count": 15,
   "metadata": {
    "colab": {},
    "colab_type": "code",
    "id": "POcty5tOBriV"
   },
   "outputs": [
    {
     "name": "stdout",
     "output_type": "stream",
     "text": [
      "Kiểu dữ liệu của các phần tử trong mảng diem_2a: int8\n"
     ]
    }
   ],
   "source": [
    "#a.dtype: Cho biết kiểu dữ liệu của các phần tử trong mảng a\n",
    "print('Kiểu dữ liệu của các phần tử trong mảng diem_2a:', diem_2a.dtype)"
   ]
  },
  {
   "cell_type": "markdown",
   "metadata": {},
   "source": [
    "### II.2.2) Chuyển đổi kiểu dữ liệu các phần tử trong mảng\n",
    "---"
   ]
  },
  {
   "cell_type": "code",
   "execution_count": 16,
   "metadata": {
    "colab": {},
    "colab_type": "code",
    "id": "Yop1EpdECAiy"
   },
   "outputs": [
    {
     "name": "stdout",
     "output_type": "stream",
     "text": [
      "[  0.          33.33333333  66.66666667 100.         133.33333333\n",
      " 166.66666667 200.         233.33333333 266.66666667 300.        ]\n",
      "Kiểu Dữ liệu:  float64\n",
      "-----------------------------------------\n",
      "[  0  33  66 100 133 166 200 233 266 300]\n",
      "Dữ liệu sau khi chuyển:  int16\n"
     ]
    }
   ],
   "source": [
    "#a.astype(kiểu mới): Chuyển đổi kiểu dữ liệu của các phần tử\n",
    "a_float = np.linspace(0,300,10)\n",
    "print(a_float)\n",
    "print('Kiểu Dữ liệu: ', a_float.dtype)\n",
    "print('-----------------------------------------')\n",
    "#Chuyển từ kiểu float --> int\n",
    "a_int = a_float.astype(np.int16)\n",
    "print(a_int)\n",
    "print('Dữ liệu sau khi chuyển: ', a_int.dtype)"
   ]
  },
  {
   "cell_type": "code",
   "execution_count": 17,
   "metadata": {
    "colab": {},
    "colab_type": "code",
    "id": "GiVRDC-ZN8c_"
   },
   "outputs": [
    {
     "name": "stdout",
     "output_type": "stream",
     "text": [
      "['0' '33' '66' '100' '133' '166' '200' '233' '266' '300']\n",
      "Dữ liệu sau khi chuyển:  <U6\n"
     ]
    }
   ],
   "source": [
    "#Chuyển từ kiểu float --> string\n",
    "a_str = a_int.astype(np.str_)\n",
    "print(a_str)\n",
    "print('Dữ liệu sau khi chuyển: ', a_str.dtype)"
   ]
  },
  {
   "cell_type": "code",
   "execution_count": 18,
   "metadata": {},
   "outputs": [
    {
     "name": "stdout",
     "output_type": "stream",
     "text": [
      "[False  True  True  True  True  True  True  True  True  True]\n",
      "Dữ liệu sau khi chuyển:  bool\n"
     ]
    }
   ],
   "source": [
    "#Chuyển từ kiểu float --> boolean\n",
    "a_bol = a_int.astype(np.bool_)\n",
    "print(a_bol)\n",
    "print('Dữ liệu sau khi chuyển: ', a_bol.dtype)"
   ]
  },
  {
   "cell_type": "markdown",
   "metadata": {
    "colab_type": "text",
    "id": "VgmurRtbSWm1"
   },
   "source": [
    "### II.2.3) Truy cập tới các phần tử của mảng\n",
    "---"
   ]
  },
  {
   "cell_type": "markdown",
   "metadata": {
    "colab_type": "text",
    "id": "Ahun79u0aXz5"
   },
   "source": [
    "#### a) Truy cập tới các phần tử của Vector (1D)\n",
    "---\n",
    "<img src='Pic/array1.png' width='400px'>"
   ]
  },
  {
   "cell_type": "code",
   "execution_count": 19,
   "metadata": {
    "colab": {
     "base_uri": "https://localhost:8080/",
     "height": 34
    },
    "colab_type": "code",
    "id": "K45TlS72Sc1y",
    "outputId": "00ac1b04-04aa-4523-8b30-fde4d35e9f99",
    "scrolled": true
   },
   "outputs": [
    {
     "name": "stdout",
     "output_type": "stream",
     "text": [
      "các phần tử của Vector a:\n",
      " [ 3  5  3 10  9  1  9  8  3  1]\n",
      "------------------------------------------------\n",
      "phần tử đầu tiên: 3\n",
      "phần tử thứ 3: 10\n",
      "phần tử cuối cùng: 1\n"
     ]
    }
   ],
   "source": [
    "#Truy cập tới một phần tử của Vector: a[index]\n",
    "#Note: index phần tử đầu tiên 0\n",
    "#    : index phần tử cuối cùng -1\n",
    "a = np.array([3,  5,  3, 10,  9,  1,  9,  8,  3,  1])\n",
    "\n",
    "print('các phần tử của Vector a:\\n', a)\n",
    "print('------------------------------------------------')\n",
    "print('phần tử đầu tiên:', a[0])\n",
    "print('phần tử thứ 3:', a[3])\n",
    "print('phần tử cuối cùng:', a[-1])"
   ]
  },
  {
   "cell_type": "markdown",
   "metadata": {},
   "source": [
    "**Truy cập tới nhiều phần tử của Vector: a[index1:index2]**\n",
    "\n",
    "<img src='Pic/array2.png' width='400px'>"
   ]
  },
  {
   "cell_type": "code",
   "execution_count": 20,
   "metadata": {
    "colab": {
     "base_uri": "https://localhost:8080/",
     "height": 69
    },
    "colab_type": "code",
    "id": "zBqDxsoeUfa3",
    "outputId": "6921b752-2bb1-496d-e5b5-67918ba38fa4"
   },
   "outputs": [
    {
     "name": "stdout",
     "output_type": "stream",
     "text": [
      "các phần tử của Vector a:\n",
      " [ 3  5  3 10  9  1  9  8  3  1]\n",
      "------------------------------------------------\n",
      "3 Phần tử đầu tiên: [ 3  5  3 10]\n",
      "Từ phần tử thứ 5 tới hết: [1 9 8 3 1]\n",
      "Từ phần tử 2 đến phần tử <6 của vector: [ 3 10  9  1]\n"
     ]
    }
   ],
   "source": [
    "#Truy cập tới nhiều phần tử của Vector: a[index1:index2]\n",
    "print('các phần tử của Vector a:\\n', a)\n",
    "print('------------------------------------------------')\n",
    "print('3 Phần tử đầu tiên:', a[:4])\n",
    "print('Từ phần tử thứ 5 tới hết:', a[5:])\n",
    "print('Từ phần tử 2 đến phần tử <6 của vector:',a[2:6])"
   ]
  },
  {
   "cell_type": "markdown",
   "metadata": {},
   "source": [
    "## Lưu ý: Thay đổi giá trị của một phần tử trong mảng\n",
    "---\n",
    "(Tương tự với dữ liệu kiểu List, Dataframe)"
   ]
  },
  {
   "cell_type": "code",
   "execution_count": 21,
   "metadata": {},
   "outputs": [
    {
     "name": "stdout",
     "output_type": "stream",
     "text": [
      "[ 3  5  3 10  9  1  9  8  3  1]\n"
     ]
    }
   ],
   "source": [
    "#Mảng a ban đầu\n",
    "print(a)"
   ]
  },
  {
   "cell_type": "code",
   "execution_count": 22,
   "metadata": {},
   "outputs": [
    {
     "data": {
      "text/plain": [
       "array([3, 5, 3, 5, 9, 1, 9, 8, 3, 1])"
      ]
     },
     "execution_count": 22,
     "metadata": {},
     "output_type": "execute_result"
    }
   ],
   "source": [
    "#Cập nhật lại giá trị của phần tử thứ 3 trong mảng\n",
    "a[3]=5\n",
    "a"
   ]
  },
  {
   "cell_type": "code",
   "execution_count": 23,
   "metadata": {},
   "outputs": [
    {
     "data": {
      "text/plain": [
       "array([3, 5, 3, 5, 9, 1, 9, 8, 3, 1])"
      ]
     },
     "execution_count": 23,
     "metadata": {},
     "output_type": "execute_result"
    }
   ],
   "source": [
    "#Tạo một mảng a1 có các phần tử như của mảng a\n",
    "a1 = a\n",
    "a1"
   ]
  },
  {
   "cell_type": "code",
   "execution_count": 24,
   "metadata": {},
   "outputs": [
    {
     "data": {
      "text/plain": [
       "array([100,   5,   3,   5,   9,   1,   9,   8,   3,   1])"
      ]
     },
     "execution_count": 24,
     "metadata": {},
     "output_type": "execute_result"
    }
   ],
   "source": [
    "#Cập nhật lại giá trị đầu tiên trong mảng a1\n",
    "a1[0]=100\n",
    "a1"
   ]
  },
  {
   "cell_type": "code",
   "execution_count": 25,
   "metadata": {},
   "outputs": [
    {
     "data": {
      "text/plain": [
       "array([100,   5,   3,   5,   9,   1,   9,   8,   3,   1])"
      ]
     },
     "execution_count": 25,
     "metadata": {},
     "output_type": "execute_result"
    }
   ],
   "source": [
    "#Các phần tử trong mảng a cũng sẽ cập nhật theo\n",
    "a"
   ]
  },
  {
   "cell_type": "code",
   "execution_count": 26,
   "metadata": {},
   "outputs": [
    {
     "data": {
      "text/plain": [
       "array([100,   5,   3,   5,   9,   1,   9,   8,   3,   1])"
      ]
     },
     "execution_count": 26,
     "metadata": {},
     "output_type": "execute_result"
    }
   ],
   "source": [
    "#Để giải quyết vấn đề này, sử dụng phương thức copy()\n",
    "a2=a.copy()\n",
    "a2"
   ]
  },
  {
   "cell_type": "code",
   "execution_count": 27,
   "metadata": {},
   "outputs": [
    {
     "data": {
      "text/plain": [
       "array([5, 5, 3, 5, 9, 1, 9, 8, 3, 1])"
      ]
     },
     "execution_count": 27,
     "metadata": {},
     "output_type": "execute_result"
    }
   ],
   "source": [
    "a2[0]=5\n",
    "a2"
   ]
  },
  {
   "cell_type": "code",
   "execution_count": 28,
   "metadata": {},
   "outputs": [
    {
     "data": {
      "text/plain": [
       "array([100,   5,   3,   5,   9,   1,   9,   8,   3,   1])"
      ]
     },
     "execution_count": 28,
     "metadata": {},
     "output_type": "execute_result"
    }
   ],
   "source": [
    "a"
   ]
  },
  {
   "cell_type": "code",
   "execution_count": 29,
   "metadata": {},
   "outputs": [
    {
     "name": "stdout",
     "output_type": "stream",
     "text": [
      "[2, 4, 6, 7]\n",
      "[2, 4, 6, 7]\n"
     ]
    }
   ],
   "source": [
    "#Tương tự với biến kiểu list\n",
    "list_a=[2,4,6,7]\n",
    "list_a1=list_a.copy()\n",
    "print(list_a)\n",
    "print(list_a1)"
   ]
  },
  {
   "cell_type": "code",
   "execution_count": 30,
   "metadata": {},
   "outputs": [
    {
     "name": "stdout",
     "output_type": "stream",
     "text": [
      "[2, 4, 6, 7]\n",
      "[100, 4, 6, 7]\n"
     ]
    }
   ],
   "source": [
    "list_a1[0]=100\n",
    "print(list_a)\n",
    "print(list_a1)"
   ]
  },
  {
   "cell_type": "markdown",
   "metadata": {
    "colab_type": "text",
    "id": "yMJSnBYdaijH"
   },
   "source": [
    "#### b)Truy cập tới các phần tử của ma trận\n",
    "---\n",
    "\n",
    "<img src='Pic/array3.png' width='600px'>"
   ]
  },
  {
   "cell_type": "code",
   "execution_count": 31,
   "metadata": {},
   "outputs": [
    {
     "name": "stdout",
     "output_type": "stream",
     "text": [
      "[[ 2  4  3  7  5  6  5  6  8  9  3  6  1  9  8  7  3  3  9  5  1  6  5  1\n",
      "   4  6  7  1  1  1]\n",
      " [ 3  5  3 10  9  1  9  8  3  1  6  0  7 10  8  5  2  7  7  1  1  6  1  6\n",
      "   3  0  2  2  1  6]\n",
      " [ 1 10  4  9  6  9  0  2  3  1  8  6  8  4  2  9  2  9  5  0  4  1  7  3\n",
      "   8  9  8  9  9  9]\n",
      " [ 6  3  0  8  3  7  7  2  6  8  7  3  4  1  5  9  1  0  2 10  4  6  8  6\n",
      "   6 10  3  1  4  5]\n",
      " [ 4  3  6  7  4  5  2  6  9  4  3  9  9  4  5  7  2 10  9  4  0  5  3  1\n",
      "   4  5  6  8  2  3]\n",
      " [ 2  3  8 10  4  5  9  5  4  7 10  1  8  4  3  9  6  3  6  7  4  7  3  5\n",
      "   9  5  7  5  8  1]\n",
      " [ 9  9  1 10  9  9  5  9  6  3  9  5  1 10  7 10  2  8  8  1  8  4  5  4\n",
      "   9  6  7  2  9  2]\n",
      " [ 8  8  7  8  6  7  7  8  6  7  8  6  7  6  8  8  7  6  8  8  8  7  8  8\n",
      "   8  6  8  7  7  8]\n",
      " [ 6  7  8  9 10  9  2  2  6  1 10  9  6  3  9  5  9  8  1  1  8  8  8  6\n",
      "   6  8  7  3  8  1]\n",
      " [ 7  8  7  8  6 10 10  6  8 10  8  9  8  8  5 10  8  7  8  7  9  9  8  7\n",
      "   7  7 10  8  9  7]]\n"
     ]
    }
   ],
   "source": [
    "print(diem_2a)"
   ]
  },
  {
   "cell_type": "code",
   "execution_count": 32,
   "metadata": {
    "colab": {},
    "colab_type": "code",
    "id": "O-9LAg8aVJwq"
   },
   "outputs": [
    {
     "name": "stdout",
     "output_type": "stream",
     "text": [
      "Điểm môn học đầu tiên, của học sinh đầu tiên: 2\n",
      "Điểm môn học thứ 1, của học sinh thứ 3: 10\n",
      "Điểm môn cuối cùng, của học sinh cuối cùng: 7\n",
      "--------------------------------------------------------\n",
      "Bảng điểm lớp 2A:\n",
      " [[ 2  4  3  7  5  6  5  6  8  9  3  6  1  9  8  7  3  3  9  5  1  6  5  1\n",
      "   4  6  7  1  1  1]\n",
      " [ 3  5  3 10  9  1  9  8  3  1  6  0  7 10  8  5  2  7  7  1  1  6  1  6\n",
      "   3  0  2  2  1  6]\n",
      " [ 1 10  4  9  6  9  0  2  3  1  8  6  8  4  2  9  2  9  5  0  4  1  7  3\n",
      "   8  9  8  9  9  9]\n",
      " [ 6  3  0  8  3  7  7  2  6  8  7  3  4  1  5  9  1  0  2 10  4  6  8  6\n",
      "   6 10  3  1  4  5]\n",
      " [ 4  3  6  7  4  5  2  6  9  4  3  9  9  4  5  7  2 10  9  4  0  5  3  1\n",
      "   4  5  6  8  2  3]\n",
      " [ 2  3  8 10  4  5  9  5  4  7 10  1  8  4  3  9  6  3  6  7  4  7  3  5\n",
      "   9  5  7  5  8  1]\n",
      " [ 9  9  1 10  9  9  5  9  6  3  9  5  1 10  7 10  2  8  8  1  8  4  5  4\n",
      "   9  6  7  2  9  2]\n",
      " [ 8  8  7  8  6  7  7  8  6  7  8  6  7  6  8  8  7  6  8  8  8  7  8  8\n",
      "   8  6  8  7  7  8]\n",
      " [ 6  7  8  9 10  9  2  2  6  1 10  9  6  3  9  5  9  8  1  1  8  8  8  6\n",
      "   6  8  7  3  8  1]\n",
      " [ 7  8  7  8  6 10 10  6  8 10  8  9  8  8  5 10  8  7  8  7  9  9  8  7\n",
      "   7  7 10  8  9  7]]\n"
     ]
    }
   ],
   "source": [
    "#Truy cập tới 1 phần tử của ma trận (2D): a[index_row, index_col]\n",
    "print('Điểm môn học đầu tiên, của học sinh đầu tiên:',diem_2a[0,0])\n",
    "print('Điểm môn học thứ 1, của học sinh thứ 3:',diem_2a[1,3])\n",
    "print('Điểm môn cuối cùng, của học sinh cuối cùng:',diem_2a[-1,-1])\n",
    "print('--------------------------------------------------------')\n",
    "print('Bảng điểm lớp 2A:\\n',diem_2a)"
   ]
  },
  {
   "cell_type": "code",
   "execution_count": 33,
   "metadata": {
    "colab": {
     "base_uri": "https://localhost:8080/",
     "height": 35
    },
    "colab_type": "code",
    "id": "mjICTCVBaxHP",
    "outputId": "1537a972-d2d3-4611-d845-7f32249fe55c"
   },
   "outputs": [
    {
     "name": "stdout",
     "output_type": "stream",
     "text": [
      "Điểm các môn của học sinh 5: [ 6  1  9  7  5  5  9  7  9 10]\n",
      "Điểm môn học cuối cùng của tất cả học sinh: \n",
      " [ 7  8  7  8  6 10 10  6  8 10  8  9  8  8  5 10  8  7  8  7  9  9  8  7\n",
      "  7  7 10  8  9  7]\n",
      "Bảng điểm 5 môn học đầu tiên của 10 học sinh đầu của lớp:\n",
      " [[ 3  6  1  9  8  7]\n",
      " [ 6  0  7 10  8  5]\n",
      " [ 8  6  8  4  2  9]\n",
      " [ 7  3  4  1  5  9]\n",
      " [ 3  9  9  4  5  7]]\n"
     ]
    }
   ],
   "source": [
    "#Truy cập tới nhiều phần tử trong ma trận: a[index_row1:index_row2,index_col1:index_col2]\n",
    "#Lấy điểm tất cả các môn (tất cả các hàng) của học sinh 5:\n",
    "diem_hs5 = diem_2a[:,5]\n",
    "print(\"Điểm các môn của học sinh 5:\",diem_hs5)\n",
    "\n",
    "#Lấy điểm môn học cuối cùng của tất cả học sinh (tất cả các cột) \n",
    "diem_mon = diem_2a[-1,:]\n",
    "print(\"Điểm môn học cuối cùng của tất cả học sinh: \\n\",diem_mon)\n",
    "\n",
    "#Lấy điểm 5 môn học đầu tiên của 10 học sinh đầu tiên\n",
    "diem5_hs10 = diem_2a[:5,10:16]\n",
    "print(\"Bảng điểm 5 môn học đầu tiên của 10 học sinh đầu của lớp:\\n\",diem5_hs10)"
   ]
  },
  {
   "cell_type": "code",
   "execution_count": 34,
   "metadata": {},
   "outputs": [
    {
     "name": "stdout",
     "output_type": "stream",
     "text": [
      "[10  1  8  4  3  9  6  3  6  7  4]\n"
     ]
    }
   ],
   "source": [
    "#môn TA: hàng index = 5\n",
    "#tất cả điểm môn TA từ học sinh 10-->20\n",
    "diem_TA = diem_2a[5,10:21]\n",
    "print(diem_TA)"
   ]
  },
  {
   "cell_type": "markdown",
   "metadata": {},
   "source": [
    "# Thực hành số 1:\n",
    "---\n",
    "**YÊU CẦU 1: Học viên tạo một ma trận vuông cấp n, bao gồm các phần tử, là những số nguyên ngẫu nhiên trong khoảng [0-100]**"
   ]
  },
  {
   "cell_type": "code",
   "execution_count": 37,
   "metadata": {},
   "outputs": [
    {
     "name": "stdout",
     "output_type": "stream",
     "text": [
      "Nhập kích thước của ma trận vuông: 6\n",
      "Ma trận ngẫu nhiên cấp 6 x 6 :\n",
      "[[34 42 52 93 29 36]\n",
      " [13 54 79 10 59 35]\n",
      " [56 74 13 25 86 61]\n",
      " [83 97 17 12 56 80]\n",
      " [54 46 12 17 36 93]\n",
      " [63 70 97 14 53 53]]\n"
     ]
    }
   ],
   "source": [
    "#{HỌC VIÊN VIẾT CODE VÀO ĐÂY}\n",
    "\n",
    "import numpy as np\n",
    "\n",
    "def create_random_matrix(n):\n",
    "    # Tạo ma trận vuông cấp n với các số nguyên ngẫu nhiên từ 0 đến 100\n",
    "    matrix = np.random.randint(0, 101, size=(n, n))\n",
    "    return matrix\n",
    "\n",
    "# Yêu cầu người dùng nhập kích thước của ma trận\n",
    "n = int(input(\"Nhập kích thước của ma trận vuông: \"))\n",
    "\n",
    "# Tạo và in ma trận\n",
    "random_matrix = create_random_matrix(n)\n",
    "print(\"Ma trận ngẫu nhiên cấp\", n, \"x\", n, \":\")\n",
    "print(random_matrix)\n",
    "\n",
    "\n",
    "\n",
    "\n"
   ]
  },
  {
   "cell_type": "code",
   "execution_count": null,
   "metadata": {},
   "outputs": [],
   "source": []
  },
  {
   "cell_type": "markdown",
   "metadata": {},
   "source": [
    "**YÊU CẦU 2: Sử dụng ma trận tạo được trong yêu cầu 1, Học viên tạo 2 vector như sau:**\n",
    "\n",
    "**v_chinh:** bao gồm các phần tử nằm trên đường chéo chính của ma trận.\n",
    "\n",
    "**V_phu:** bao gồm các phần tử nằm trên đường chéo phụ của ma trận"
   ]
  },
  {
   "cell_type": "code",
   "execution_count": 38,
   "metadata": {},
   "outputs": [
    {
     "name": "stdout",
     "output_type": "stream",
     "text": [
      "\n",
      "Vector chéo chính (v_chinh):\n",
      "[34 54 13 12 36 53]\n",
      "\n",
      "Vector chéo phụ (v_phu):\n",
      "[36 59 25 17 46 63]\n"
     ]
    }
   ],
   "source": [
    "#{HỌC VIÊN VIẾT CODE VÀO ĐÂY}\n",
    "def get_diagonal_vectors(matrix):\n",
    "    n = matrix.shape[0]\n",
    "    \n",
    "    # Tạo vector chứa các phần tử trên đường chéo chính\n",
    "    v_chinh = np.diag(matrix)\n",
    "    \n",
    "    # Tạo vector chứa các phần tử trên đường chéo phụ\n",
    "    v_phu = np.diag(np.fliplr(matrix))\n",
    "    \n",
    "    return v_chinh, v_phu\n",
    "# Tạo các vector chéo chính và chéo phụ\n",
    "v_chinh, v_phu = get_diagonal_vectors(random_matrix)\n",
    "\n",
    "print(\"\\nVector chéo chính (v_chinh):\")\n",
    "print(v_chinh)\n",
    "\n",
    "\n",
    "print(\"\\nVector chéo phụ (v_phu):\")\n",
    "print(v_phu)\n",
    "\n",
    "\n",
    "\n"
   ]
  },
  {
   "cell_type": "code",
   "execution_count": null,
   "metadata": {},
   "outputs": [],
   "source": []
  },
  {
   "cell_type": "markdown",
   "metadata": {},
   "source": [
    "**YÊU CẦU 3: Nhập vào số nguyên x bất kỳ trong khoảng (0-100), đếm xem có bao nhiêu phần tử trong ma trận sinh ra ở yêu cầu 1 có giá trị bằng x, lớn hơn x, nhỏ hơn x và hiển thị kết quả:**"
   ]
  },
  {
   "cell_type": "code",
   "execution_count": 40,
   "metadata": {},
   "outputs": [
    {
     "name": "stdout",
     "output_type": "stream",
     "text": [
      "Nhập một số nguyên x trong khoảng (0-100): 55\n",
      "Số phần tử bằng 55: 0\n",
      "Số phần tử lớn hơn 55: 15\n",
      "Số phần tử nhỏ hơn 55: 21\n"
     ]
    }
   ],
   "source": [
    "#{HỌC VIÊN VIẾT CODE VÀO ĐÂY}\n",
    "\n",
    "# Nhập số nguyên x trong khoảng (0, 100)\n",
    "x = int(input(\"Nhập một số nguyên x trong khoảng (0-100): \"))\n",
    "while not (0 < x < 100):\n",
    "    x = int(input(\"Số x không hợp lệ. Vui lòng nhập lại số nguyên trong khoảng (0-100): \"))\n",
    "\n",
    "# Đếm số phần tử theo các điều kiện\n",
    "equal_count = np.sum(random_matrix == x)\n",
    "greater_count = np.sum(random_matrix > x)\n",
    "lesser_count = np.sum(random_matrix < x)\n",
    "\n",
    "# Hiển thị kết quả đếm\n",
    "print(f\"Số phần tử bằng {x}: {equal_count}\")\n",
    "print(f\"Số phần tử lớn hơn {x}: {greater_count}\")\n",
    "print(f\"Số phần tử nhỏ hơn {x}: {lesser_count}\")\n",
    "\n",
    "\n"
   ]
  },
  {
   "cell_type": "code",
   "execution_count": null,
   "metadata": {},
   "outputs": [],
   "source": []
  },
  {
   "cell_type": "markdown",
   "metadata": {
    "colab_type": "text",
    "id": "yXwnkCYJk2FE"
   },
   "source": [
    "## 4) Tính toán các đặc trưng thống kê trong mảng\n",
    "---\n",
    "https://numpy.org/devdocs/reference/routines.statistics.html\n",
    "\n",
    "<img src='Pic\\math.png' width='350px'>\n",
    "\n",
    "Toán học và thống kê có một vai trò rất quan trọng trong khoa học dữ liệu!\n"
   ]
  },
  {
   "cell_type": "markdown",
   "metadata": {},
   "source": [
    "### 4.1) Min - Max\n",
    "---"
   ]
  },
  {
   "cell_type": "code",
   "execution_count": 41,
   "metadata": {},
   "outputs": [
    {
     "name": "stdout",
     "output_type": "stream",
     "text": [
      "BẢNG ĐIỂM CỦA LỚP 2A:\n",
      "[[ 2  4  3  7  5  6  5  6  8  9  3  6  1  9  8  7  3  3  9  5  1  6  5  1\n",
      "   4  6  7  1  1  1]\n",
      " [ 3  5  3 10  9  1  9  8  3  1  6  0  7 10  8  5  2  7  7  1  1  6  1  6\n",
      "   3  0  2  2  1  6]\n",
      " [ 1 10  4  9  6  9  0  2  3  1  8  6  8  4  2  9  2  9  5  0  4  1  7  3\n",
      "   8  9  8  9  9  9]\n",
      " [ 6  3  0  8  3  7  7  2  6  8  7  3  4  1  5  9  1  0  2 10  4  6  8  6\n",
      "   6 10  3  1  4  5]\n",
      " [ 4  3  6  7  4  5  2  6  9  4  3  9  9  4  5  7  2 10  9  4  0  5  3  1\n",
      "   4  5  6  8  2  3]\n",
      " [ 2  3  8 10  4  5  9  5  4  7 10  1  8  4  3  9  6  3  6  7  4  7  3  5\n",
      "   9  5  7  5  8  1]\n",
      " [ 9  9  1 10  9  9  5  9  6  3  9  5  1 10  7 10  2  8  8  1  8  4  5  4\n",
      "   9  6  7  2  9  2]\n",
      " [ 8  8  7  8  6  7  7  8  6  7  8  6  7  6  8  8  7  6  8  8  8  7  8  8\n",
      "   8  6  8  7  7  8]\n",
      " [ 6  7  8  9 10  9  2  2  6  1 10  9  6  3  9  5  9  8  1  1  8  8  8  6\n",
      "   6  8  7  3  8  1]\n",
      " [ 7  8  7  8  6 10 10  6  8 10  8  9  8  8  5 10  8  7  8  7  9  9  8  7\n",
      "   7  7 10  8  9  7]]\n"
     ]
    }
   ],
   "source": [
    "print('BẢNG ĐIỂM CỦA LỚP 2A:')\n",
    "print(diem_2a)"
   ]
  },
  {
   "cell_type": "code",
   "execution_count": 42,
   "metadata": {},
   "outputs": [
    {
     "name": "stdout",
     "output_type": "stream",
     "text": [
      "Điểm cao nhất của lớp: 10\n",
      "Điểm thấp nhất của lớp: 0\n"
     ]
    }
   ],
   "source": [
    "#Max - Min: Xác định giá trị lớn nhất, nhỏ nhất:\n",
    "#1) Hiển thị điểm cao nhất, thấp nhất của lớp 2A\n",
    "print('Điểm cao nhất của lớp:',diem_2a.max())\n",
    "print('Điểm thấp nhất của lớp:',diem_2a.min())"
   ]
  },
  {
   "cell_type": "code",
   "execution_count": 43,
   "metadata": {},
   "outputs": [
    {
     "data": {
      "text/plain": [
       "(10, 30)"
      ]
     },
     "execution_count": 43,
     "metadata": {},
     "output_type": "execute_result"
    }
   ],
   "source": [
    "diem_2a.shape"
   ]
  },
  {
   "cell_type": "code",
   "execution_count": 44,
   "metadata": {
    "colab": {},
    "colab_type": "code",
    "id": "idOxcfxek6Nl"
   },
   "outputs": [
    {
     "name": "stdout",
     "output_type": "stream",
     "text": [
      "Môn  0 : Điểm Max:  9 -- Điểm Min: 1\n",
      "Môn  1 : Điểm Max:  10 -- Điểm Min: 0\n",
      "Môn  2 : Điểm Max:  10 -- Điểm Min: 0\n",
      "Môn  3 : Điểm Max:  10 -- Điểm Min: 0\n",
      "Môn  4 : Điểm Max:  10 -- Điểm Min: 0\n",
      "Môn  5 : Điểm Max:  10 -- Điểm Min: 1\n",
      "Môn  6 : Điểm Max:  10 -- Điểm Min: 1\n",
      "Môn  7 : Điểm Max:  8 -- Điểm Min: 6\n",
      "Môn  8 : Điểm Max:  10 -- Điểm Min: 1\n",
      "Môn  9 : Điểm Max:  10 -- Điểm Min: 5\n"
     ]
    }
   ],
   "source": [
    "#2) Liệt kê điểm cao nhất và thấp nhất theo môn học\n",
    "for i in range(0,diem_2a.shape[0]):\n",
    "  print('Môn ', i,': Điểm Max: ', diem_2a[i,:].max(),\n",
    "                 '-- Điểm Min:',diem_2a[i,:].min())"
   ]
  },
  {
   "cell_type": "code",
   "execution_count": 45,
   "metadata": {},
   "outputs": [
    {
     "name": "stdout",
     "output_type": "stream",
     "text": [
      "Điểm max:  [ 9 10 10 10 10 10 10  8 10 10]\n",
      "Điểm Min:  [1 0 0 0 0 1 1 6 1 5]\n"
     ]
    }
   ],
   "source": [
    "#CÁCH 2:\n",
    "#phần tử max theo cột\n",
    "max_mh = diem_2a.max(axis=1)\n",
    "print('Điểm max: ', max_mh)\n",
    "\n",
    "#phần tử min theo cột\n",
    "min_mh = diem_2a.min(axis=1)\n",
    "print('Điểm Min: ', min_mh)"
   ]
  },
  {
   "cell_type": "markdown",
   "metadata": {},
   "source": [
    "* axis=0: Xử lý các phần tử theo hàng\n",
    "* axis=1: Xử lý các phần tử theo cột\n",
    "<img src='Pic\\pic.jpg' width='400px'>"
   ]
  },
  {
   "cell_type": "code",
   "execution_count": 46,
   "metadata": {},
   "outputs": [
    {
     "data": {
      "text/plain": [
       "(10, 30)"
      ]
     },
     "execution_count": 46,
     "metadata": {},
     "output_type": "execute_result"
    }
   ],
   "source": [
    "diem_2a.shape"
   ]
  },
  {
   "cell_type": "code",
   "execution_count": 47,
   "metadata": {},
   "outputs": [
    {
     "name": "stdout",
     "output_type": "stream",
     "text": [
      "Học sinh  0 : Điểm Max:  9 -- Điểm Min: 1\n",
      "Học sinh  1 : Điểm Max:  10 -- Điểm Min: 3\n",
      "Học sinh  2 : Điểm Max:  8 -- Điểm Min: 0\n",
      "Học sinh  3 : Điểm Max:  10 -- Điểm Min: 7\n",
      "Học sinh  4 : Điểm Max:  10 -- Điểm Min: 3\n",
      "Học sinh  5 : Điểm Max:  10 -- Điểm Min: 1\n",
      "Học sinh  6 : Điểm Max:  10 -- Điểm Min: 0\n",
      "Học sinh  7 : Điểm Max:  9 -- Điểm Min: 2\n",
      "Học sinh  8 : Điểm Max:  9 -- Điểm Min: 3\n",
      "Học sinh  9 : Điểm Max:  10 -- Điểm Min: 1\n",
      "Học sinh  10 : Điểm Max:  10 -- Điểm Min: 3\n",
      "Học sinh  11 : Điểm Max:  9 -- Điểm Min: 0\n",
      "Học sinh  12 : Điểm Max:  9 -- Điểm Min: 1\n",
      "Học sinh  13 : Điểm Max:  10 -- Điểm Min: 1\n",
      "Học sinh  14 : Điểm Max:  9 -- Điểm Min: 2\n",
      "Học sinh  15 : Điểm Max:  10 -- Điểm Min: 5\n",
      "Học sinh  16 : Điểm Max:  9 -- Điểm Min: 1\n",
      "Học sinh  17 : Điểm Max:  10 -- Điểm Min: 0\n",
      "Học sinh  18 : Điểm Max:  9 -- Điểm Min: 1\n",
      "Học sinh  19 : Điểm Max:  10 -- Điểm Min: 0\n",
      "Học sinh  20 : Điểm Max:  9 -- Điểm Min: 0\n",
      "Học sinh  21 : Điểm Max:  9 -- Điểm Min: 1\n",
      "Học sinh  22 : Điểm Max:  8 -- Điểm Min: 1\n",
      "Học sinh  23 : Điểm Max:  8 -- Điểm Min: 1\n",
      "Học sinh  24 : Điểm Max:  9 -- Điểm Min: 3\n",
      "Học sinh  25 : Điểm Max:  10 -- Điểm Min: 0\n",
      "Học sinh  26 : Điểm Max:  10 -- Điểm Min: 2\n",
      "Học sinh  27 : Điểm Max:  9 -- Điểm Min: 1\n",
      "Học sinh  28 : Điểm Max:  9 -- Điểm Min: 1\n",
      "Học sinh  29 : Điểm Max:  9 -- Điểm Min: 1\n"
     ]
    }
   ],
   "source": [
    "#3) Liệt kê điểm cao nhất và thấp nhất của mỗi học sinh\n",
    "for i in range(0,diem_2a.shape[1]):\n",
    "    print('Học sinh ', i,': Điểm Max: ', diem_2a[:,i].max(),\n",
    "                      '-- Điểm Min:',diem_2a[:,i].min())"
   ]
  },
  {
   "cell_type": "code",
   "execution_count": 48,
   "metadata": {},
   "outputs": [
    {
     "name": "stdout",
     "output_type": "stream",
     "text": [
      "Điểm max:  [ 9 10  8 10 10 10 10  9  9 10 10  9  9 10  9 10  9 10  9 10  9  9  8  8\n",
      "  9 10 10  9  9  9]\n",
      "Điểm Min:  [1 3 0 7 3 1 0 2 3 1 3 0 1 1 2 5 1 0 1 0 0 1 1 1 3 0 2 1 1 1]\n"
     ]
    }
   ],
   "source": [
    "#phần tử max theo cột\n",
    "max_mh = diem_2a.max(axis=0)\n",
    "print('Điểm max: ', max_mh)\n",
    "\n",
    "#phần tử min theo cột\n",
    "min_mh = diem_2a.min(axis=0)\n",
    "print('Điểm Min: ', min_mh)"
   ]
  },
  {
   "cell_type": "code",
   "execution_count": 49,
   "metadata": {
    "colab": {},
    "colab_type": "code",
    "id": "cWrmdj56mIJS"
   },
   "outputs": [
    {
     "name": "stdout",
     "output_type": "stream",
     "text": [
      "10\n",
      "7\n"
     ]
    }
   ],
   "source": [
    "#YÊU CẦU: HIỂN THỊ ĐIỂM CAO NHẤT VÀ THẤP NHẤT CỦA HỌC SINH Ở VỊ TRÍ THỨ 4 \n",
    "#Kết quả hiển thị như sau:\n",
    "#\"Điểm Max và Min của học sinh thứ 4: 10.0  điểm -  7.0  điểm\"\n",
    "#{Sinh viên viết code ở đây:}\n",
    "print(diem_2a[:,3].max())\n",
    "print(diem_2a[:,3].min())"
   ]
  },
  {
   "cell_type": "markdown",
   "metadata": {},
   "source": [
    "### 4.2) Sum\n",
    "---"
   ]
  },
  {
   "cell_type": "code",
   "execution_count": 50,
   "metadata": {
    "colab": {
     "base_uri": "https://localhost:8080/",
     "height": 538
    },
    "colab_type": "code",
    "id": "Go7CfJ4fNJ04",
    "outputId": "7b0cd976-0a95-4ed0-aa29-1f7f5e44eff6"
   },
   "outputs": [
    {
     "name": "stdout",
     "output_type": "stream",
     "text": [
      "Tổng tất các điểm trong của lớp 2A: 1731\n",
      "---------------------------------------------------\n",
      "Tổng điểm các môn của học sinh  0  :  48\n",
      "Tổng điểm các môn của học sinh  1  :  60\n",
      "Tổng điểm các môn của học sinh  2  :  47\n",
      "Tổng điểm các môn của học sinh  3  :  86\n",
      "Tổng điểm các môn của học sinh  4  :  62\n",
      "Tổng điểm các môn của học sinh  5  :  68\n",
      "Tổng điểm các môn của học sinh  6  :  56\n",
      "Tổng điểm các môn của học sinh  7  :  54\n",
      "Tổng điểm các môn của học sinh  8  :  59\n",
      "Tổng điểm các môn của học sinh  9  :  51\n",
      "Tổng điểm các môn của học sinh  10  :  72\n",
      "Tổng điểm các môn của học sinh  11  :  54\n",
      "Tổng điểm các môn của học sinh  12  :  59\n",
      "Tổng điểm các môn của học sinh  13  :  59\n",
      "Tổng điểm các môn của học sinh  14  :  60\n",
      "Tổng điểm các môn của học sinh  15  :  79\n",
      "Tổng điểm các môn của học sinh  16  :  42\n",
      "Tổng điểm các môn của học sinh  17  :  61\n",
      "Tổng điểm các môn của học sinh  18  :  63\n",
      "Tổng điểm các môn của học sinh  19  :  44\n",
      "Tổng điểm các môn của học sinh  20  :  47\n",
      "Tổng điểm các môn của học sinh  21  :  59\n",
      "Tổng điểm các môn của học sinh  22  :  56\n",
      "Tổng điểm các môn của học sinh  23  :  47\n",
      "Tổng điểm các môn của học sinh  24  :  64\n",
      "Tổng điểm các môn của học sinh  25  :  62\n",
      "Tổng điểm các môn của học sinh  26  :  65\n",
      "Tổng điểm các môn của học sinh  27  :  46\n",
      "Tổng điểm các môn của học sinh  28  :  58\n",
      "Tổng điểm các môn của học sinh  29  :  43\n"
     ]
    }
   ],
   "source": [
    "#Sum:Tính tổng các phần tử trong mảng\n",
    "print('Tổng tất các điểm trong của lớp 2A:', diem_2a.sum())\n",
    "print('---------------------------------------------------')\n",
    "\n",
    "#Tính tổng điểm của từng học sinh:\n",
    "for i in range(0,diem_2a.shape[1]):\n",
    "    print('Tổng điểm các môn của học sinh ', i,' : ', diem_2a[:,i].sum())"
   ]
  },
  {
   "cell_type": "code",
   "execution_count": 51,
   "metadata": {},
   "outputs": [
    {
     "data": {
      "text/plain": [
       "array([48, 60, 47, 86, 62, 68, 56, 54, 59, 51, 72, 54, 59, 59, 60, 79, 42,\n",
       "       61, 63, 44, 47, 59, 56, 47, 64, 62, 65, 46, 58, 43])"
      ]
     },
     "execution_count": 51,
     "metadata": {},
     "output_type": "execute_result"
    }
   ],
   "source": [
    "np.sum(diem_2a,axis=0)"
   ]
  },
  {
   "cell_type": "code",
   "execution_count": 52,
   "metadata": {},
   "outputs": [
    {
     "data": {
      "text/plain": [
       "array([142, 133, 165, 145, 149, 168, 187, 219, 184, 239])"
      ]
     },
     "execution_count": 52,
     "metadata": {},
     "output_type": "execute_result"
    }
   ],
   "source": [
    "np.sum(diem_2a,axis=1)"
   ]
  },
  {
   "cell_type": "markdown",
   "metadata": {},
   "source": [
    "### 4.3) Mean, Median, Mode, Range\n",
    "---"
   ]
  },
  {
   "cell_type": "code",
   "execution_count": 53,
   "metadata": {
    "colab": {},
    "colab_type": "code",
    "id": "GhKA_wR4rF_P"
   },
   "outputs": [
    {
     "name": "stdout",
     "output_type": "stream",
     "text": [
      "Điểm trung bình của cả lớp 2A: 5.77\n",
      "---------------------------------------------\n",
      "Điểm trung bình của học sinh  0  :  4.8\n",
      "Điểm trung bình của học sinh  1  :  6.0\n",
      "Điểm trung bình của học sinh  2  :  4.7\n",
      "Điểm trung bình của học sinh  3  :  8.6\n",
      "Điểm trung bình của học sinh  4  :  6.2\n",
      "Điểm trung bình của học sinh  5  :  6.8\n",
      "Điểm trung bình của học sinh  6  :  5.6\n",
      "Điểm trung bình của học sinh  7  :  5.4\n",
      "Điểm trung bình của học sinh  8  :  5.9\n",
      "Điểm trung bình của học sinh  9  :  5.1\n",
      "Điểm trung bình của học sinh  10  :  7.2\n",
      "Điểm trung bình của học sinh  11  :  5.4\n",
      "Điểm trung bình của học sinh  12  :  5.9\n",
      "Điểm trung bình của học sinh  13  :  5.9\n",
      "Điểm trung bình của học sinh  14  :  6.0\n",
      "Điểm trung bình của học sinh  15  :  7.9\n",
      "Điểm trung bình của học sinh  16  :  4.2\n",
      "Điểm trung bình của học sinh  17  :  6.1\n",
      "Điểm trung bình của học sinh  18  :  6.3\n",
      "Điểm trung bình của học sinh  19  :  4.4\n",
      "Điểm trung bình của học sinh  20  :  4.7\n",
      "Điểm trung bình của học sinh  21  :  5.9\n",
      "Điểm trung bình của học sinh  22  :  5.6\n",
      "Điểm trung bình của học sinh  23  :  4.7\n",
      "Điểm trung bình của học sinh  24  :  6.4\n",
      "Điểm trung bình của học sinh  25  :  6.2\n",
      "Điểm trung bình của học sinh  26  :  6.5\n",
      "Điểm trung bình của học sinh  27  :  4.6\n",
      "Điểm trung bình của học sinh  28  :  5.8\n",
      "Điểm trung bình của học sinh  29  :  4.3\n"
     ]
    }
   ],
   "source": [
    "# A) mean: Giá trị trung bình của mảng a\n",
    "print('Điểm trung bình của cả lớp 2A:', diem_2a.mean())\n",
    "print('---------------------------------------------')\n",
    "#Tính điểm trung bình của các học sinh trong lớp:\n",
    "#CÁCH 1: \n",
    "for i in range(0,diem_2a.shape[1]):\n",
    "  print('Điểm trung bình của học sinh ', i,' : ', diem_2a[:,i].mean())"
   ]
  },
  {
   "cell_type": "code",
   "execution_count": 54,
   "metadata": {
    "colab": {},
    "colab_type": "code",
    "id": "CDNc1EmxsOCY"
   },
   "outputs": [
    {
     "name": "stdout",
     "output_type": "stream",
     "text": [
      "[4.8 6.  4.7 8.6 6.2 6.8 5.6 5.4 5.9 5.1 7.2 5.4 5.9 5.9 6.  7.9 4.2 6.1\n",
      " 6.3 4.4 4.7 5.9 5.6 4.7 6.4 6.2 6.5 4.6 5.8 4.3]\n",
      "Điểm trung bình của học sinh  0  :  4.8\n",
      "Điểm trung bình của học sinh  1  :  6.0\n",
      "Điểm trung bình của học sinh  2  :  4.7\n",
      "Điểm trung bình của học sinh  3  :  8.6\n",
      "Điểm trung bình của học sinh  4  :  6.2\n",
      "Điểm trung bình của học sinh  5  :  6.8\n",
      "Điểm trung bình của học sinh  6  :  5.6\n",
      "Điểm trung bình của học sinh  7  :  5.4\n",
      "Điểm trung bình của học sinh  8  :  5.9\n",
      "Điểm trung bình của học sinh  9  :  5.1\n",
      "Điểm trung bình của học sinh  10  :  7.2\n",
      "Điểm trung bình của học sinh  11  :  5.4\n",
      "Điểm trung bình của học sinh  12  :  5.9\n",
      "Điểm trung bình của học sinh  13  :  5.9\n",
      "Điểm trung bình của học sinh  14  :  6.0\n",
      "Điểm trung bình của học sinh  15  :  7.9\n",
      "Điểm trung bình của học sinh  16  :  4.2\n",
      "Điểm trung bình của học sinh  17  :  6.1\n",
      "Điểm trung bình của học sinh  18  :  6.3\n",
      "Điểm trung bình của học sinh  19  :  4.4\n",
      "Điểm trung bình của học sinh  20  :  4.7\n",
      "Điểm trung bình của học sinh  21  :  5.9\n",
      "Điểm trung bình của học sinh  22  :  5.6\n",
      "Điểm trung bình của học sinh  23  :  4.7\n",
      "Điểm trung bình của học sinh  24  :  6.4\n",
      "Điểm trung bình của học sinh  25  :  6.2\n",
      "Điểm trung bình của học sinh  26  :  6.5\n",
      "Điểm trung bình của học sinh  27  :  4.6\n",
      "Điểm trung bình của học sinh  28  :  5.8\n",
      "Điểm trung bình của học sinh  29  :  4.3\n"
     ]
    }
   ],
   "source": [
    "#Tính điểm trung bình của các học sinh trong lớp:\n",
    "#CÁCH 2: \n",
    "mean_2a = diem_2a.mean(axis=0)\n",
    "print(mean_2a)\n",
    "#axis = 0: theo hàng\n",
    "#axis = 1: theo cột\n",
    "for i in range(0,mean_2a.size):\n",
    "  print('Điểm trung bình của học sinh ', i,' : ', mean_2a[i])"
   ]
  },
  {
   "cell_type": "code",
   "execution_count": 55,
   "metadata": {
    "colab": {
     "base_uri": "https://localhost:8080/",
     "height": 134
    },
    "colab_type": "code",
    "id": "cq-jzNk71NOT",
    "outputId": "da72d089-8cdf-4567-dffc-582541562d0c"
   },
   "outputs": [
    {
     "name": "stdout",
     "output_type": "stream",
     "text": [
      "Mảng a ban đầu: \n",
      " [ 3  5  3 10  9  1  9  8  3  1  6  0  7 10  8]\n",
      "Số phần tử trong mảng a:  15\n",
      "Mảng a đã sắp xếp: \n",
      " [ 0  1  1  3  3  3  5  6  7  8  8  9  9 10 10]\n",
      "Giá trị trung bình mean: 5.533333333333333\n",
      "Giá trị trung vị median: 6.0\n"
     ]
    }
   ],
   "source": [
    "#B) median(): Giá trị trung vị trong một tập hợp các phần tử.\n",
    "#Trường hợp số phần tử trong mảng là lẻ\n",
    "a=diem_2a[1,:15]\n",
    "\n",
    "print('Mảng a ban đầu: \\n', a)\n",
    "print('Số phần tử trong mảng a: ', a.size)\n",
    "print('Mảng a đã sắp xếp: \\n',np.sort(a,))\n",
    "print('Giá trị trung bình mean:', np.mean(a))  \n",
    "print('Giá trị trung vị median:', np.median(a))"
   ]
  },
  {
   "cell_type": "code",
   "execution_count": 56,
   "metadata": {
    "colab": {
     "base_uri": "https://localhost:8080/",
     "height": 134
    },
    "colab_type": "code",
    "id": "igZocFli-ddl",
    "outputId": "7200a038-da85-4206-8f67-ab7c0b906289"
   },
   "outputs": [
    {
     "name": "stdout",
     "output_type": "stream",
     "text": [
      "Mảng a ban đầu: \n",
      " [ 9  1  1  8  4  7  3  7  1 10]\n",
      "Số phần tử trong mảng a:  10\n",
      "Mảng a đã sắp xếp: \n",
      " [ 1  1  1  3  4  7  7  8  9 10]\n",
      "Giá trị trung bình mean: 5.1\n",
      "Giá trị trung vị median: 5.5\n"
     ]
    }
   ],
   "source": [
    "#median(): Giá trị trung vị trong một tập hợp các phần tử.\n",
    "a=diem_2a[:,9]\n",
    "\n",
    "print('Mảng a ban đầu: \\n', a)\n",
    "print('Số phần tử trong mảng a: ', a.size)\n",
    "print('Mảng a đã sắp xếp: \\n',np.sort(a,))\n",
    "print('Giá trị trung bình mean:', np.mean(a))  \n",
    "print('Giá trị trung vị median:', np.median(a))"
   ]
  },
  {
   "cell_type": "code",
   "execution_count": null,
   "metadata": {},
   "outputs": [],
   "source": []
  },
  {
   "cell_type": "code",
   "execution_count": 57,
   "metadata": {
    "colab": {
     "base_uri": "https://localhost:8080/",
     "height": 202
    },
    "colab_type": "code",
    "id": "aZviHD9fBFOz",
    "outputId": "b7076f3b-60a8-4709-be12-de6ce393b078"
   },
   "outputs": [
    {
     "name": "stdout",
     "output_type": "stream",
     "text": [
      "Môn  0 : Điểm xuất hiện nhiều nhất:  [1]  số lần:  [6]\n",
      "Môn  1 : Điểm xuất hiện nhiều nhất:  [1]  số lần:  [6]\n",
      "Môn  2 : Điểm xuất hiện nhiều nhất:  [9]  số lần:  [8]\n",
      "Môn  3 : Điểm xuất hiện nhiều nhất:  [6]  số lần:  [5]\n",
      "Môn  4 : Điểm xuất hiện nhiều nhất:  [4]  số lần:  [6]\n",
      "Môn  5 : Điểm xuất hiện nhiều nhất:  [5]  số lần:  [5]\n",
      "Môn  6 : Điểm xuất hiện nhiều nhất:  [9]  số lần:  [8]\n",
      "Môn  7 : Điểm xuất hiện nhiều nhất:  [8]  số lần:  [15]\n",
      "Môn  8 : Điểm xuất hiện nhiều nhất:  [8]  số lần:  [7]\n",
      "Môn  9 : Điểm xuất hiện nhiều nhất:  [8]  số lần:  [10]\n",
      "<class 'scipy.stats.stats.ModeResult'>\n"
     ]
    }
   ],
   "source": [
    "#C) Mode: là giá trị xuất hiện nhiều nhất trong tập hợp. \n",
    "#Trong trường hợp không có giá trị nào được lặp lại thì không có Mode.\n",
    "#Liệt kê điểm xuất hiện nhiều nhất theo từng môn học\n",
    "from scipy import stats as sp #sử dụng thư viện scipy để dùng hàm mode\n",
    "\n",
    "for i in range(0,diem_2a.shape[0]):\n",
    "    a = sp.mode(diem_2a[i,:])\n",
    "    print('Môn ', i,': Điểm xuất hiện nhiều nhất: ', a[0],\n",
    "        ' số lần: ', a[1])\n",
    "print(type(a))"
   ]
  },
  {
   "cell_type": "code",
   "execution_count": 58,
   "metadata": {
    "colab": {},
    "colab_type": "code",
    "id": "YbE-5b0zIQGt"
   },
   "outputs": [
    {
     "name": "stdout",
     "output_type": "stream",
     "text": [
      "Độ chênh điểm của học sinh  0  :  8\n",
      "Độ chênh điểm của học sinh  1  :  7\n",
      "Độ chênh điểm của học sinh  2  :  8\n",
      "Độ chênh điểm của học sinh  3  :  3\n",
      "Độ chênh điểm của học sinh  4  :  7\n",
      "Độ chênh điểm của học sinh  5  :  9\n",
      "Độ chênh điểm của học sinh  6  :  10\n",
      "Độ chênh điểm của học sinh  7  :  7\n",
      "Độ chênh điểm của học sinh  8  :  6\n",
      "Độ chênh điểm của học sinh  9  :  9\n",
      "Độ chênh điểm của học sinh  10  :  7\n",
      "Độ chênh điểm của học sinh  11  :  9\n",
      "Độ chênh điểm của học sinh  12  :  8\n",
      "Độ chênh điểm của học sinh  13  :  9\n",
      "Độ chênh điểm của học sinh  14  :  7\n",
      "Độ chênh điểm của học sinh  15  :  5\n",
      "Độ chênh điểm của học sinh  16  :  8\n",
      "Độ chênh điểm của học sinh  17  :  10\n",
      "Độ chênh điểm của học sinh  18  :  8\n",
      "Độ chênh điểm của học sinh  19  :  10\n",
      "Độ chênh điểm của học sinh  20  :  9\n",
      "Độ chênh điểm của học sinh  21  :  8\n",
      "Độ chênh điểm của học sinh  22  :  7\n",
      "Độ chênh điểm của học sinh  23  :  7\n",
      "Độ chênh điểm của học sinh  24  :  6\n",
      "Độ chênh điểm của học sinh  25  :  10\n",
      "Độ chênh điểm của học sinh  26  :  8\n",
      "Độ chênh điểm của học sinh  27  :  8\n",
      "Độ chênh điểm của học sinh  28  :  8\n",
      "Độ chênh điểm của học sinh  29  :  8\n"
     ]
    }
   ],
   "source": [
    "#D) Range: là sự khác biệt, khoảng cách giữa phần tử dưới và phần tử trên, \n",
    "#giữa giá trị nhỏ nhất (Min) với giá trị lớn nhất (Max) trong tập hợp.\n",
    "#Xác định độ chênh điểm max - min của từng học sinh\n",
    "\n",
    "for i in range(0,diem_2a.shape[1]):\n",
    "    print('Độ chênh điểm của học sinh ', i,' : ',\n",
    "        diem_2a[:,i].max()-diem_2a[:,i].min())"
   ]
  },
  {
   "cell_type": "markdown",
   "metadata": {},
   "source": [
    "**Độ lệch chuẩn (standard deviation): Độ lệch tiêu chuẩn (standard deviation) là đại lượng thường được sử dụng để phản ánh mức độ phân tán của một biến số xung quanh số bình quân.**\n",
    "* Nếu độ lệch chuẩn bằng 0, suy ra các giá trị quan sát cũng chính là giá trị trung bình. Nói cách khác là không có sự biến thiên.\n",
    "* Nếu độ lệch chuẩn càng lớn, suy ra  sự biến thiên xung quanh giá trị trung bình càng lớn.\n",
    "\n",
    "<img src='pic\\std.png'>\n",
    "\n",
    "<img src='pic\\std1.png'>"
   ]
  },
  {
   "cell_type": "code",
   "execution_count": 59,
   "metadata": {},
   "outputs": [
    {
     "name": "stdout",
     "output_type": "stream",
     "text": [
      "Phần tử của mảng a: [10  1  1  9 12  1  9 12 10]\n",
      "Giá trị trung bình: 7.222222222222222\n",
      "Độ lệch chuẩn: 4.516089207311461\n",
      "--------------------------------------------\n",
      "Phần tử của mảng b: [7 7 8 7 8 7 7 7 7]\n",
      "Giá trị trung bình: 7.222222222222222\n",
      "Độ lệch chuẩn: 0.41573970964154905\n"
     ]
    }
   ],
   "source": [
    "#E) Std: Tính độ lệch chuẩn\n",
    "a = np.array([10,1,1,9,12,1,9,12,10])\n",
    "print('Phần tử của mảng a:',a)\n",
    "print('Giá trị trung bình:',a.mean())\n",
    "print('Độ lệch chuẩn:',a.std())\n",
    "\n",
    "print('--------------------------------------------')\n",
    "b = np.array([7,7,8,7,8,7,7,7,7])\n",
    "print('Phần tử của mảng b:',b)\n",
    "print('Giá trị trung bình:',b.mean())\n",
    "print('Độ lệch chuẩn:',b.std())"
   ]
  },
  {
   "cell_type": "code",
   "execution_count": 60,
   "metadata": {
    "colab": {
     "base_uri": "https://localhost:8080/",
     "height": 521
    },
    "colab_type": "code",
    "id": "nuAUyO_ZVJSH",
    "outputId": "fc98ead3-315f-4cac-a034-09182727574d"
   },
   "outputs": [
    {
     "name": "stdout",
     "output_type": "stream",
     "text": [
      "Độ lệch chuẩn điểm của từng học sinh  0  :  2.638181191654584\n",
      "Độ lệch chuẩn điểm của từng học sinh  1  :  2.569046515733026\n",
      "Độ lệch chuẩn điểm của từng học sinh  2  :  2.758622844826744\n",
      "Độ lệch chuẩn điểm của từng học sinh  3  :  1.1135528725660042\n",
      "Độ lệch chuẩn điểm của từng học sinh  4  :  2.2715633383201093\n",
      "Độ lệch chuẩn điểm của từng học sinh  5  :  2.56124969497314\n",
      "Độ lệch chuẩn điểm của từng học sinh  6  :  3.2310988842807027\n",
      "Độ lệch chuẩn điểm của từng học sinh  7  :  2.4979991993593593\n",
      "Độ lệch chuẩn điểm của từng học sinh  8  :  1.9723082923316018\n",
      "Độ lệch chuẩn điểm của từng học sinh  9  :  3.3301651610693423\n",
      "Độ lệch chuẩn điểm của từng học sinh  10  :  2.4\n",
      "Độ lệch chuẩn điểm của từng học sinh  11  :  3.072458299147443\n",
      "Độ lệch chuẩn điểm của từng học sinh  12  :  2.7730849247724096\n",
      "Độ lệch chuẩn điểm của từng học sinh  13  :  3.014962686336267\n",
      "Độ lệch chuẩn điểm của từng học sinh  14  :  2.23606797749979\n",
      "Độ lệch chuẩn điểm của từng học sinh  15  :  1.7578395831246945\n",
      "Độ lệch chuẩn điểm của từng học sinh  16  :  2.8213471959331766\n",
      "Độ lệch chuẩn điểm của từng học sinh  17  :  2.981610303175115\n",
      "Độ lệch chuẩn điểm của từng học sinh  18  :  2.685144316419511\n",
      "Độ lệch chuẩn điểm của từng học sinh  19  :  3.352610922848042\n",
      "Độ lệch chuẩn điểm của từng học sinh  20  :  3.1953090617340916\n",
      "Độ lệch chuẩn điểm của từng học sinh  21  :  2.118962010041709\n",
      "Độ lệch chuẩn điểm của từng học sinh  22  :  2.4576411454889016\n",
      "Độ lệch chuẩn điểm của từng học sinh  23  :  2.282542442102666\n",
      "Độ lệch chuẩn điểm của từng học sinh  24  :  2.0591260281974\n",
      "Độ lệch chuẩn điểm của từng học sinh  25  :  2.6\n",
      "Độ lệch chuẩn điểm của từng học sinh  26  :  2.247220505424423\n",
      "Độ lệch chuẩn điểm của từng học sinh  27  :  3.006659275674582\n",
      "Độ lệch chuẩn điểm của từng học sinh  28  :  3.2496153618543846\n",
      "Độ lệch chuẩn điểm của từng học sinh  29  :  2.934280150224242\n"
     ]
    }
   ],
   "source": [
    "#E) Std: độ lệch chuẩn\n",
    "#Tính độ lệch chuẩn điểm thi của từng học sinh\n",
    "hs_std = np.std(diem_2a,axis=0)\n",
    "for i in range(0,diem_2a.shape[1]):\n",
    "  print('Độ lệch chuẩn điểm của từng học sinh ', i,' : ', hs_std[i])"
   ]
  },
  {
   "cell_type": "code",
   "execution_count": 61,
   "metadata": {},
   "outputs": [
    {
     "data": {
      "text/plain": [
       "3.352610922848042"
      ]
     },
     "execution_count": 61,
     "metadata": {},
     "output_type": "execute_result"
    }
   ],
   "source": [
    "# Độ lệch chuẩn của điểm theo từng Học sinh\n",
    "# 1) Độ lệch chuẩn lớn nhất của điểm thi theo học sinh\n",
    "diem_2a.std(axis=0).max()"
   ]
  },
  {
   "cell_type": "code",
   "execution_count": 62,
   "metadata": {},
   "outputs": [
    {
     "data": {
      "text/plain": [
       "array([ 5,  1,  0, 10,  4,  7,  1,  8,  1,  7], dtype=int8)"
      ]
     },
     "execution_count": 62,
     "metadata": {},
     "output_type": "execute_result"
    }
   ],
   "source": [
    "# Điểm của học sinh này\n",
    "diem_2a[:,19]"
   ]
  },
  {
   "cell_type": "code",
   "execution_count": 63,
   "metadata": {},
   "outputs": [
    {
     "data": {
      "text/plain": [
       "1.1135528725660042"
      ]
     },
     "execution_count": 63,
     "metadata": {},
     "output_type": "execute_result"
    }
   ],
   "source": [
    "# 2) Độ lệch chuẩn nhỏ nhất của điểm thi theo học sinh\n",
    "diem_2a.std(axis=0).min()"
   ]
  },
  {
   "cell_type": "code",
   "execution_count": 64,
   "metadata": {},
   "outputs": [
    {
     "data": {
      "text/plain": [
       "array([ 7, 10,  9,  8,  7, 10, 10,  8,  9,  8], dtype=int8)"
      ]
     },
     "execution_count": 64,
     "metadata": {},
     "output_type": "execute_result"
    }
   ],
   "source": [
    "# Điểm của học sinh này\n",
    "diem_2a[:,3]"
   ]
  },
  {
   "cell_type": "markdown",
   "metadata": {},
   "source": [
    "# Thực hành số 2:\n",
    "---\n",
    "**YÊU CẦU 1: Sử dụng dữ liệu bảng điểm của lớp 2A. Cho biết:**\n",
    "\n",
    "1. ĐTB của từng học sinh trong lớp.\n",
    "2. Học sinh có điểm TB cao nhất.\n",
    "3. Học sinh có điểm trung bình thấp nhất\n"
   ]
  },
  {
   "cell_type": "code",
   "execution_count": 69,
   "metadata": {},
   "outputs": [
    {
     "name": "stdout",
     "output_type": "stream",
     "text": [
      "Điểm trung bình của từng học sinh: [4.73333333 4.43333333 5.5        4.83333333 4.96666667 5.6\n",
      " 6.23333333 7.3        6.13333333 7.96666667]\n",
      "Học sinh có điểm trung bình cao nhất là học sinh 10 với ĐTB = 7.97\n",
      "Học sinh có điểm trung bình thấp nhất là học sinh 2 với ĐTB = 4.43\n"
     ]
    }
   ],
   "source": [
    "# Tính điểm trung bình của từng học sinh\n",
    "dtb = diem_2a.mean(axis=1)\n",
    "\n",
    "# Tìm học sinh có điểm TB cao nhất và thấp nhất\n",
    "highest_student_index = np.argmax(dtb)\n",
    "lowest_student_index = np.argmin(dtb)\n",
    "\n",
    "# In kết quả\n",
    "print(\"Điểm trung bình của từng học sinh:\", dtb)\n",
    "print(f\"Học sinh có điểm trung bình cao nhất là học sinh {highest_student_index + 1} với ĐTB = {dtb[highest_student_index]:.2f}\")\n",
    "print(f\"Học sinh có điểm trung bình thấp nhất là học sinh {lowest_student_index + 1} với ĐTB = {dtb[lowest_student_index]:.2f}\")"
   ]
  },
  {
   "cell_type": "code",
   "execution_count": 70,
   "metadata": {},
   "outputs": [
    {
     "name": "stdout",
     "output_type": "stream",
     "text": [
      "Học sinh 1: ĐTB = 4.73\n",
      "Học sinh 2: ĐTB = 4.43\n",
      "Học sinh 3: ĐTB = 5.50\n",
      "Học sinh 4: ĐTB = 4.83\n",
      "Học sinh 5: ĐTB = 4.97\n",
      "Học sinh 6: ĐTB = 5.60\n",
      "Học sinh 7: ĐTB = 6.23\n",
      "Học sinh 8: ĐTB = 7.30\n",
      "Học sinh 9: ĐTB = 6.13\n",
      "Học sinh 10: ĐTB = 7.97\n"
     ]
    }
   ],
   "source": [
    "import numpy as np\n",
    "\n",
    "# Dữ liệu bảng điểm diem_2a\n",
    "diem_2a = np.array([\n",
    "    [2, 4, 3, 7, 5, 6, 5, 6, 8, 9, 3, 6, 1, 9, 8, 7, 3, 3, 9, 5, 1, 6, 5, 1, 4, 6, 7, 1, 1, 1],\n",
    "    [3, 5, 3, 10, 9, 1, 9, 8, 3, 1, 6, 0, 7, 10, 8, 5, 2, 7, 7, 1, 1, 6, 1, 6, 3, 0, 2, 2, 1, 6],\n",
    "    [1, 10, 4, 9, 6, 9, 0, 2, 3, 1, 8, 6, 8, 4, 2, 9, 2, 9, 5, 0, 4, 1, 7, 3, 8, 9, 8, 9, 9, 9],\n",
    "    [6, 3, 0, 8, 3, 7, 7, 2, 6, 8, 7, 3, 4, 1, 5, 9, 1, 0, 2, 10, 4, 6, 8, 6, 6, 10, 3, 1, 4, 5],\n",
    "    [4, 3, 6, 7, 4, 5, 2, 6, 9, 4, 3, 9, 9, 4, 5, 7, 2, 10, 9, 4, 0, 5, 3, 1, 4, 5, 6, 8, 2, 3],\n",
    "    [2, 3, 8, 10, 4, 5, 9, 5, 4, 7, 10, 1, 8, 4, 3, 9, 6, 3, 6, 7, 4, 7, 3, 5, 9, 5, 7, 5, 8, 1],\n",
    "    [9, 9, 1, 10, 9, 9, 5, 9, 6, 3, 9, 5, 1, 10, 7, 10, 2, 8, 8, 1, 8, 4, 5, 4, 9, 6, 7, 2, 9, 2],\n",
    "    [8, 8, 7, 8, 6, 7, 7, 8, 6, 7, 8, 6, 7, 6, 8, 8, 7, 6, 8, 8, 8, 7, 8, 8, 8, 6, 8, 7, 7, 8],\n",
    "    [6, 7, 8, 9, 10, 9, 2, 2, 6, 1, 10, 9, 6, 3, 9, 5, 9, 8, 1, 1, 8, 8, 8, 6, 6, 8, 7, 3, 8, 1],\n",
    "    [7, 8, 7, 8, 6, 10, 10, 6, 8, 10, 8, 9, 8, 8, 5, 10, 8, 7, 8, 7, 9, 9, 8, 7, 7, 7, 10, 8, 9, 7]\n",
    "])\n",
    "\n",
    "# Tính điểm trung bình của từng học sinh\n",
    "dtb = diem_2a.mean(axis=1)\n",
    "\n",
    "# Hiển thị điểm trung bình\n",
    "for i, dtb_value in enumerate(dtb, 1):\n",
    "    print(f\"Học sinh {i}: ĐTB = {dtb_value:.2f}\")\n"
   ]
  },
  {
   "cell_type": "code",
   "execution_count": null,
   "metadata": {},
   "outputs": [],
   "source": []
  },
  {
   "cell_type": "markdown",
   "metadata": {},
   "source": [
    "**YÊU CẦU 2: Sử dụng dữ liệu bảng điểm của lớp 2A. Cho biết:**\n",
    "\n",
    "1. ĐTB của từng môn học.\n",
    "2. Môn học có điểm TB cao nhất.\n",
    "3. Môn học có điểm trung bình thấp nhất"
   ]
  },
  {
   "cell_type": "code",
   "execution_count": 71,
   "metadata": {},
   "outputs": [
    {
     "name": "stdout",
     "output_type": "stream",
     "text": [
      "Điểm trung bình của từng môn học:\n",
      "Môn 1: 4.80\n",
      "Môn 2: 6.00\n",
      "Môn 3: 4.70\n",
      "Môn 4: 8.60\n",
      "Môn 5: 6.20\n",
      "Môn 6: 6.80\n",
      "Môn 7: 5.60\n",
      "Môn 8: 5.40\n",
      "Môn 9: 5.90\n",
      "Môn 10: 5.10\n",
      "Môn 11: 7.20\n",
      "Môn 12: 5.40\n",
      "Môn 13: 5.90\n",
      "Môn 14: 5.90\n",
      "Môn 15: 6.00\n",
      "Môn 16: 7.90\n",
      "Môn 17: 4.20\n",
      "Môn 18: 6.10\n",
      "Môn 19: 6.30\n",
      "Môn 20: 4.40\n",
      "Môn 21: 4.70\n",
      "Môn 22: 5.90\n",
      "Môn 23: 5.60\n",
      "Môn 24: 4.70\n",
      "Môn 25: 6.40\n",
      "Môn 26: 6.20\n",
      "Môn 27: 6.50\n",
      "Môn 28: 4.60\n",
      "Môn 29: 5.80\n",
      "Môn 30: 4.30\n",
      "\n",
      "Môn học có điểm trung bình cao nhất: Môn 4 (8.60)\n",
      "Môn học có điểm trung bình thấp nhất: Môn 17 (4.20)\n"
     ]
    }
   ],
   "source": [
    "#{HỌC VIÊN VIẾT CODE VÀO ĐÂY}\n",
    "\n",
    "\n",
    "# Số lượng học sinh\n",
    "so_hoc_sinh = len(diem_2a)\n",
    "\n",
    "# Tính điểm trung bình cho từng môn học\n",
    "diem_trung_binh = [0] * len(diem_2a[0])\n",
    "\n",
    "for hoc_sinh in diem_2a:\n",
    "    for i in range(len(hoc_sinh)):\n",
    "        diem_trung_binh[i] += hoc_sinh[i]\n",
    "\n",
    "# Tính điểm trung bình\n",
    "diem_trung_binh = [diem / so_hoc_sinh for diem in diem_trung_binh]\n",
    "\n",
    "# Xác định môn học có điểm trung bình cao nhất và thấp nhất\n",
    "muc_cao_nhat = max(diem_trung_binh)\n",
    "muc_thap_nhat = min(diem_trung_binh)\n",
    "mon_cao_nhat = diem_trung_binh.index(muc_cao_nhat) + 1  # +1 để bắt đầu từ 1\n",
    "mon_thap_nhat = diem_trung_binh.index(muc_thap_nhat) + 1  # +1 để bắt đầu từ 1\n",
    "\n",
    "# In kết quả\n",
    "print(\"Điểm trung bình của từng môn học:\")\n",
    "for i, dtb in enumerate(diem_trung_binh):\n",
    "    print(f\"Môn {i + 1}: {dtb:.2f}\")\n",
    "\n",
    "print(f\"\\nMôn học có điểm trung bình cao nhất: Môn {mon_cao_nhat} ({muc_cao_nhat:.2f})\")\n",
    "print(f\"Môn học có điểm trung bình thấp nhất: Môn {mon_thap_nhat} ({muc_thap_nhat:.2f})\")\n",
    "\n",
    "\n",
    "\n"
   ]
  },
  {
   "cell_type": "code",
   "execution_count": null,
   "metadata": {},
   "outputs": [],
   "source": []
  },
  {
   "cell_type": "markdown",
   "metadata": {},
   "source": [
    "#### **YÊU CẦU 3: Sử dụng dữ liệu bảng điểm của lớp 2A. Cho biết:**\n",
    "---\n",
    "1. Sinh viên có điểm đồng đều nhất tất cả các môn. Sinh viên có điểm các môn lệch nhất trong lớp.\n",
    "2. Môn học có điểm đồng đều nhất. Môn học có điểm chênh lệch nhất.\n",
    "\n"
   ]
  },
  {
   "cell_type": "code",
   "execution_count": 72,
   "metadata": {},
   "outputs": [
    {
     "name": "stdout",
     "output_type": "stream",
     "text": [
      "Sinh viên có điểm đồng đều nhất: Sinh viên 8 (Độ lệch chuẩn: 0.78)\n",
      "Sinh viên có điểm lệch nhất: Sinh viên 3 (Độ lệch chuẩn: 3.28)\n",
      "Môn học có điểm đồng đều nhất: Môn 4 (Độ lệch chuẩn: 1.11)\n",
      "Môn học có điểm chênh lệch nhất: Môn 20 (Độ lệch chuẩn: 3.35)\n"
     ]
    }
   ],
   "source": [
    "#{HỌC VIÊN VIẾT CODE VÀO ĐÂY}\n",
    "import numpy as np\n",
    "\n",
    "\n",
    "# Chuyển đổi dữ liệu thành numpy array\n",
    "diem_2a_np = np.array(diem_2a)\n",
    "\n",
    "# Tính độ lệch chuẩn cho từng sinh viên\n",
    "do_lech_sinh_vien = np.std(diem_2a_np, axis=1)\n",
    "\n",
    "# Tính độ lệch chuẩn cho từng môn học\n",
    "do_lech_mon_hoc = np.std(diem_2a_np, axis=0)\n",
    "\n",
    "# Sinh viên có độ lệch chuẩn thấp nhất và cao nhất\n",
    "sinh_vien_dong_de_nhat = np.argmin(do_lech_sinh_vien) + 1  # +1 để bắt đầu từ 1\n",
    "sinh_vien_lech_nhat = np.argmax(do_lech_sinh_vien) + 1      # +1 để bắt đầu từ 1\n",
    "\n",
    "# Môn học có độ lệch chuẩn thấp nhất và cao nhất\n",
    "mon_dong_de_nhat = np.argmin(do_lech_mon_hoc) + 1           # +1 để bắt đầu từ 1\n",
    "mon_lech_nhat = np.argmax(do_lech_mon_hoc) + 1              # +1 để bắt đầu từ 1\n",
    "\n",
    "# In kết quả\n",
    "print(f\"Sinh viên có điểm đồng đều nhất: Sinh viên {sinh_vien_dong_de_nhat} (Độ lệch chuẩn: {do_lech_sinh_vien[sinh_vien_dong_de_nhat - 1]:.2f})\")\n",
    "print(f\"Sinh viên có điểm lệch nhất: Sinh viên {sinh_vien_lech_nhat} (Độ lệch chuẩn: {do_lech_sinh_vien[sinh_vien_lech_nhat - 1]:.2f})\")\n",
    "print(f\"Môn học có điểm đồng đều nhất: Môn {mon_dong_de_nhat} (Độ lệch chuẩn: {do_lech_mon_hoc[mon_dong_de_nhat - 1]:.2f})\")\n",
    "print(f\"Môn học có điểm chênh lệch nhất: Môn {mon_lech_nhat} (Độ lệch chuẩn: {do_lech_mon_hoc[mon_lech_nhat - 1]:.2f})\")\n",
    "\n",
    "\n",
    "\n",
    "\n"
   ]
  },
  {
   "cell_type": "code",
   "execution_count": null,
   "metadata": {},
   "outputs": [],
   "source": []
  },
  {
   "cell_type": "markdown",
   "metadata": {
    "colab": {},
    "colab_type": "code",
    "id": "mZjltyhGt0-l"
   },
   "source": [
    "### 4.3) Hệ số tương quan | corrcoef\n",
    "---\n",
    "\n",
    "Hệ số tương quan đo lường mức độ quan hệ tuyến tính giữa hai biến.\n",
    "* Hệ số tương quan không có đơn vị\n",
    "* Hệ số tương quan nằm trong khoảng [-1,1]\n",
    "<img src='Pic\\corr.png' width='400px'>\n",
    "<img src='Pic\\corr1.png' width='400px'>"
   ]
  },
  {
   "cell_type": "code",
   "execution_count": 73,
   "metadata": {
    "colab": {
     "base_uri": "https://localhost:8080/",
     "height": 84
    },
    "colab_type": "code",
    "id": "AzbLh8h1dDn7",
    "outputId": "e8263aac-7bd0-4114-d2a8-ab9386f6a67c"
   },
   "outputs": [
    {
     "name": "stdout",
     "output_type": "stream",
     "text": [
      "[[4 7 1 2 8 0 3 8 6]\n",
      " [7 6 6 4 5 9 5 3 8]]\n",
      "<class 'numpy.ndarray'>\n",
      "Hệ số tương quan: \n",
      " [[ 1.         -0.40372486]\n",
      " [-0.40372486  1.        ]]\n"
     ]
    }
   ],
   "source": [
    "import numpy as np\n",
    "#corrcoef: Hệ số tương quan\n",
    "\n",
    "#Thời gian dành cho học bài\n",
    "a_giohoc = np.array([4,7,1,2,8,0,3,8,6])\n",
    "\n",
    "#Điểm thi nhận được:\n",
    "b_diem   = np.array([7,6,6,4,5,9,5,3,8])\n",
    "\n",
    "print(np.asarray((a_giohoc,b_diem)))\n",
    "\n",
    "#Tính hệ số tương quan\n",
    "co = np.corrcoef(a_giohoc,b_diem)\n",
    "print(type(co))\n",
    "print('Hệ số tương quan: \\n', co)"
   ]
  },
  {
   "cell_type": "code",
   "execution_count": 74,
   "metadata": {
    "colab": {
     "base_uri": "https://localhost:8080/",
     "height": 297
    },
    "colab_type": "code",
    "id": "2M0_uFNSg7wa",
    "outputId": "3ce8e3f7-c30a-40d4-d5b7-2b92c26a89a8"
   },
   "outputs": [
    {
     "data": {
      "image/png": "[encoded data removed]",
      "text/plain": [
       "<Figure size 432x288 with 1 Axes>"
      ]
     },
     "metadata": {
      "needs_background": "light"
     },
     "output_type": "display_data"
    }
   ],
   "source": [
    "#Vẽ đồ thị mối quan hệ giữa thời gian học và điểm nhận được\n",
    "\n",
    "import matplotlib.pyplot as plt\n",
    "fig, ax = plt.subplots()\n",
    "ax.scatter(a_giohoc, b_diem)\n",
    "\n",
    "ax.set_xlabel('Giờ học bài (tuần)', fontsize=10)\n",
    "ax.set_ylabel('Điểm môn học', fontsize=10)\n",
    "ax.set_title('BIỂU ĐỒ THỂ HIỆN MỐI TƯƠNG QUAN GIỮA GIỜ HỌC BÀI VÀ ĐIỂM THI')\n",
    "\n",
    "ax.grid(True)\n",
    "#fig.tight_layout()\n",
    "\n",
    "plt.show()"
   ]
  },
  {
   "cell_type": "code",
   "execution_count": 75,
   "metadata": {
    "colab": {
     "base_uri": "https://localhost:8080/",
     "height": 67
    },
    "colab_type": "code",
    "id": "rQxsOLWSeJfn",
    "outputId": "f7d12246-8a86-4a58-9c54-4ed4d9719fc4"
   },
   "outputs": [
    {
     "name": "stdout",
     "output_type": "stream",
     "text": [
      "[[ 4  7  1  2  8  0  3  8  6]\n",
      " [ 7  9  3  4  9  0  5 10  8]\n",
      " [ 1  2  8  7  3  9  6  4  2]]\n",
      "<class 'numpy.ndarray'>\n",
      "[[ 1.          0.96995403 -0.78943742]\n",
      " [ 0.96995403  1.         -0.85749293]\n",
      " [-0.78943742 -0.85749293  1.        ]]\n"
     ]
    }
   ],
   "source": [
    "#Hệ số tương quan của Matrix\n",
    "a_hoc = np.array([[4,7,1,2,8,0,3,8,6],\n",
    "                 [7,9,3,4,9,0,5,10,8],\n",
    "                 [1,2,8,7,3,9,6,4,2]])\n",
    "\n",
    "#Tính hệ số tương quan theo từng hàng(rowvar=True| default)\n",
    "co = np.corrcoef(a_hoc,rowvar=True)\n",
    "print(a_hoc)\n",
    "print(type(co))\n",
    "print(co)"
   ]
  },
  {
   "cell_type": "markdown",
   "metadata": {},
   "source": [
    "# Thực hành số 3:\n",
    "---\n",
    "**Yêu cầu 1: Xác định hệ số tương quan giữa diện tích (1)  và giá bán nhà theo bảng số liệu:**\n",
    "<img src = 'Pic\\sl1.png' width='350px'>\n"
   ]
  },
  {
   "cell_type": "code",
   "execution_count": null,
   "metadata": {},
   "outputs": [],
   "source": [
    "#{HỌC VIÊN VIẾT CODE VÀO ĐÂY}\n",
    "\n",
    "\n",
    "\n",
    "\n"
   ]
  },
  {
   "cell_type": "code",
   "execution_count": null,
   "metadata": {},
   "outputs": [],
   "source": []
  },
  {
   "cell_type": "markdown",
   "metadata": {},
   "source": [
    "**Yêu cầu 2: Xác định hệ số tương quan giữa Khoảng cách từ trung tâm thành phố (2) và giá bán nhà theo bảng số liệu:**\n",
    "<img src = 'Pic\\sl2.png' width='350px'>"
   ]
  },
  {
   "cell_type": "code",
   "execution_count": null,
   "metadata": {},
   "outputs": [],
   "source": [
    "#{HỌC VIÊN VIẾT CODE VÀO ĐÂY}\n",
    "\n",
    "\n",
    "\n",
    "\n"
   ]
  },
  {
   "cell_type": "code",
   "execution_count": null,
   "metadata": {},
   "outputs": [],
   "source": []
  },
  {
   "cell_type": "markdown",
   "metadata": {},
   "source": [
    "## Thực hành số 4:\n",
    "---\n",
    "Mô tả file dữ liệu: Temp.txt (có trong thư mục Data_Excercise)\n",
    "* File dữ liệu lưu trữ nhiệt độ (oC) của 6 thành phố lớn dọc theo nước Việt Nam là: Hà Nội, Vinh, Đà Nẵng, Nha trang, Hồ Chính Minh và Cà Mau\n",
    "* Thời gian từ 0h ngày 15/09/2019 tới 23h ngày 22/09/2019\n",
    "\n",
    "*Học viên xem mô tả chi tiết file dữ liệu trong slide Practice4*"
   ]
  },
  {
   "cell_type": "markdown",
   "metadata": {},
   "source": [
    "**Yêu cầu 4.1**: Đọc dữ liệu lưu trữ trong file Temp.txt vào biến mảng data_temp, cho biết kích thước, số chiều, kiểu dữ liệu và số phần tử của biến data_temp.\n"
   ]
  },
  {
   "cell_type": "code",
   "execution_count": 86,
   "metadata": {},
   "outputs": [
    {
     "name": "stdout",
     "output_type": "stream",
     "text": [
      "Kích thước của mảng: (192, 6)\n",
      "Số chiều của mảng: 2\n",
      "Kiểu dữ liệu của mảng: float64\n",
      "Số phần tử của mảng: 1152\n"
     ]
    }
   ],
   "source": [
    "#{HỌC VIÊN VIẾT CODE VÀO ĐÂY}\n",
    "import numpy as np\n",
    "\n",
    "# Đường dẫn tới file Temp.txt (có trong thư mục Data_Exercise)\n",
    "path = 'Data_Excercise/Temp.txt'\n",
    "\n",
    "# Đọc dữ liệu từ file Temp.txt vào mảng data_temp\n",
    "data_temp = np.loadtxt(path)\n",
    "\n",
    "# In ra thông tin của mảng data_temp\n",
    "print(\"Kích thước của mảng:\", data_temp.shape)   # Kích thước (số hàng, số cột)\n",
    "print(\"Số chiều của mảng:\", data_temp.ndim)      # Số chiều của mảng\n",
    "print(\"Kiểu dữ liệu của mảng:\", data_temp.dtype) # Kiểu dữ liệu của các phần tử trong mảng\n",
    "print(\"Số phần tử của mảng:\", data_temp.size)    # Tổng số phần tử trong mảng\n",
    "\n"
   ]
  },
  {
   "cell_type": "code",
   "execution_count": null,
   "metadata": {},
   "outputs": [],
   "source": []
  },
  {
   "cell_type": "markdown",
   "metadata": {},
   "source": [
    "**Yêu cầu 4.2**: Tìm nhiệt độ cao nhất (Max) – Thấp nhất (Min) – Nhiệt độ trung bình của cả tập dữ liệu.\n",
    "\n",
    "**Yêu cầu 4.3**: Tìm nhiệt độ cao nhất (Max) – Thấp nhất (Min) – Nhiệt độ trung bình của từng thành phố và hiển thị kết quả.\n"
   ]
  },
  {
   "cell_type": "code",
   "execution_count": 88,
   "metadata": {},
   "outputs": [
    {
     "name": "stdout",
     "output_type": "stream",
     "text": [
      "Nhiệt độ cao nhất (MAx): 33.45\n",
      "Nhiệt độ thấp nhất (Min): 20.93\n"
     ]
    }
   ],
   "source": [
    "#{HỌC VIÊN VIẾT CODE VÀO ĐÂY}\n",
    "\n",
    "print('Nhiệt độ cao nhất (MAx):',data_temp.max())\n",
    "print('Nhiệt độ thấp nhất (Min):',data_temp.min())\n",
    "\n",
    "\n"
   ]
  },
  {
   "cell_type": "code",
   "execution_count": null,
   "metadata": {},
   "outputs": [],
   "source": []
  },
  {
   "cell_type": "markdown",
   "metadata": {},
   "source": [
    "**Yêu cầu 4:** Tạo một ma trận data_thongke gồm 3 hàng x 7 cột; \n",
    "các hàng lần lượt lưu trữ dữ liệu như sau: \n",
    "- Hàng 0: Nhiệt độ cao nhất (Max)\n",
    "- Hàng 1: Nhiệt độ trung bình (Mean), làm tròn đến 2 số sau dấu phẩy\n",
    "- Hàng 2: Nhiệt độ nhỏ nhất (Min)\n",
    "Các cột lần lượt theo thứ tự của 6 thành phố và cột cuối cùng là cột thống kê chung cho cả 6 thành phố. Lưu ra file thongke.txt"
   ]
  },
  {
   "cell_type": "code",
   "execution_count": null,
   "metadata": {},
   "outputs": [],
   "source": []
  },
  {
   "cell_type": "code",
   "execution_count": null,
   "metadata": {},
   "outputs": [],
   "source": []
  },
  {
   "cell_type": "markdown",
   "metadata": {},
   "source": [
    "## Thực hành số 5:\n",
    "---\n",
    "Mô tả file dữ liệu: Diamonds.txt (có trong thư mục Data_Excercise)\n",
    "\n",
    "* File dữ liệu lưu trữ thông số 50 viên kim cương bao gồm: Trọng lượng (carat) và Giá bán ($) tương ứng theo mỗi hàng\n",
    "\n",
    "*Học viên xem mô tả chi tiết file dữ liệu trong slide Practice4*"
   ]
  },
  {
   "cell_type": "markdown",
   "metadata": {},
   "source": [
    "**Yêu cầu 5.1:** Đọc dữ liệu lưu trữ trong file Diamonds.txt vào biến kiểu mảng data_diamond, cho biết kích thước, số chiều, kiểu dữ liệu và số phần tử của biến data_diamond"
   ]
  },
  {
   "cell_type": "code",
   "execution_count": 89,
   "metadata": {},
   "outputs": [
    {
     "name": "stdout",
     "output_type": "stream",
     "text": [
      "Kích thước của mảng: (50, 2)\n",
      "Số chiều của mảng: 2\n",
      "Kiểu dữ liệu của mảng: float64\n",
      "Số phần tử của mảng: 100\n"
     ]
    }
   ],
   "source": [
    "#{HỌC VIÊN VIẾT CODE VÀO ĐÂY}\n",
    "import numpy as np\n",
    "\n",
    "# Đường dẫn tới file Temp.txt (có trong thư mục Data_Exercise)\n",
    "path = 'Data_Excercise/Diamonds.txt'\n",
    "\n",
    "# Đọc dữ liệu từ file Temp.txt vào mảng data_temp\n",
    "data_diamond = np.loadtxt(path)\n",
    "\n",
    "# In ra thông tin của mảng data_temp\n",
    "print(\"Kích thước của mảng:\", data_diamond.shape)   # Kích thước (số hàng, số cột)\n",
    "print(\"Số chiều của mảng:\", data_diamond.ndim)      # Số chiều của mảng\n",
    "print(\"Kiểu dữ liệu của mảng:\", data_diamond.dtype) # Kiểu dữ liệu của các phần tử trong mảng\n",
    "print(\"Số phần tử của mảng:\", data_diamond.size)    # Tổng số phần tử trong mảng\n",
    "\n",
    "\n",
    "\n",
    "\n",
    "\n",
    "\n"
   ]
  },
  {
   "cell_type": "code",
   "execution_count": null,
   "metadata": {},
   "outputs": [],
   "source": []
  },
  {
   "cell_type": "markdown",
   "metadata": {},
   "source": [
    "**Yêu cầu 5.2:** Tách mảng data_diamond thành 2 vector:  diamond_size và diamond_price lưu trữ trọng lượng và giá bán.\n"
   ]
  },
  {
   "cell_type": "code",
   "execution_count": 90,
   "metadata": {},
   "outputs": [
    {
     "name": "stdout",
     "output_type": "stream",
     "text": [
      "Vector diamond_size (trọng lượng): [0.23 0.31 0.2  1.02 1.63 1.14 2.01 1.28 1.7  1.01 0.64 0.97 1.78 3.4\n",
      " 3.01 1.51 1.37 1.5  0.54 0.72 1.13 2.24 3.01 4.5  0.92 1.05 0.55 0.74\n",
      " 0.91 1.23 1.52 0.91 0.43 1.24 1.77 1.79 2.05 2.03 2.01 1.   0.9  1.01\n",
      " 1.14 1.53 0.34 0.41 0.75 1.07 1.34 1.75]\n",
      "Vector diamond_price (giá bán): [  484.   942.   345.  4459. 14022.  4212. 11925.  9548. 11605.  4642.\n",
      "  3541.  4504. 13691. 15964. 10453. 11560.  7979.  9533.  1723.  3344.\n",
      "  6133. 13827. 16538. 18531.  3625.  7879.  1319.  2761.  3620.  6165.\n",
      " 10640.  4138.  1094. 11130. 14561. 10108. 12654. 16280. 13498.  4586.\n",
      "  3105.  7745.  5047. 10830.   765.   827.  3120.  5220.  7427.  9890.]\n"
     ]
    }
   ],
   "source": [
    "#{HỌC VIÊN VIẾT CODE VÀO ĐÂY}\n",
    "# Tách data_diamond thành hai vector: diamond_size và diamond_price\n",
    "diamond_size = data_diamond[:, 0]  # Lấy tất cả các hàng của cột đầu tiên (trọng lượng)\n",
    "diamond_price = data_diamond[:, 1] # Lấy tất cả các hàng của cột thứ hai (giá bán)\n",
    "\n",
    "# In ra hai vector\n",
    "print(\"Vector diamond_size (trọng lượng):\", diamond_size)\n",
    "print(\"Vector diamond_price (giá bán):\", diamond_price)\n",
    "\n",
    "\n",
    "\n"
   ]
  },
  {
   "cell_type": "code",
   "execution_count": null,
   "metadata": {},
   "outputs": [],
   "source": []
  },
  {
   "cell_type": "markdown",
   "metadata": {},
   "source": [
    "**Yêu cầu 5.3:** Vẽ đồ thị thể hiện mối quan hệ giữa kích thước và giá bán kim cương. Xác định hệ số tương quan tương ứng giữa 2 thông số này.\n"
   ]
  },
  {
   "cell_type": "code",
   "execution_count": 92,
   "metadata": {},
   "outputs": [
    {
     "data": {
      "image/png": "[encoded data removed]",
      "text/plain": [
       "<Figure size 432x288 with 1 Axes>"
      ]
     },
     "metadata": {
      "needs_background": "light"
     },
     "output_type": "display_data"
    }
   ],
   "source": [
    "#{HỌC VIÊN VIẾT CODE VÀO ĐÂY}\n",
    "\n",
    "import numpy as np\n",
    "import matplotlib.pyplot as plt\n",
    "from scipy.stats import pearsonr\n",
    "\n",
    "\n",
    "# Vẽ đồ thị scatter\n",
    "plt.scatter(diamond_size, diamond_price, color='blue', alpha=0.7, edgecolors='k')\n",
    "plt.title('Mối quan hệ giữa kích thước và giá bán kim cương')\n",
    "plt.xlabel('Trọng lượng (carat)')\n",
    "plt.ylabel('Giá bán (USD)')\n",
    "plt.grid(True)\n",
    "\n",
    "# Tính hệ số tương quan Pearson\n",
    "correlation_coefficient, _ = pearsonr(diamond_size, diamond_price)\n",
    "plt.text(1, 18000, f'Hệ số tương quan: {correlation_coefficient:.2f}', fontsize=12, color='red')\n",
    "\n",
    "# Hiển thị đồ thị\n",
    "plt.show()   \n",
    "\n",
    "\n",
    "\n"
   ]
  },
  {
   "cell_type": "code",
   "execution_count": null,
   "metadata": {},
   "outputs": [],
   "source": []
  },
  {
   "cell_type": "markdown",
   "metadata": {},
   "source": [
    "**Yêu cầu 5.4:** Cho biết kích thước và giá trung bình của 50 viên kim cương. Hiển thị giá bán của viên kim cương có trọng lượng 3.01 carat.\n"
   ]
  },
  {
   "cell_type": "code",
   "execution_count": 93,
   "metadata": {},
   "outputs": [
    {
     "name": "stdout",
     "output_type": "stream",
     "text": [
      "Kích thước trung bình của 50 viên kim cương: 1.34 carat\n",
      "Giá trung bình của 50 viên kim cương: 7550.78 USD\n",
      "Giá bán của viên kim cương có trọng lượng 3.01 carat: [10453. 16538.]\n"
     ]
    }
   ],
   "source": [
    "#{HỌC VIÊN VIẾT CODE VÀO ĐÂY}\n",
    "\n",
    "# Tính kích thước trung bình\n",
    "average_size = np.mean(diamond_size)\n",
    "\n",
    "# Tính giá bán trung bình\n",
    "average_price = np.mean(diamond_price)\n",
    "\n",
    "# Tìm giá của viên kim cương có trọng lượng 3.01 carat\n",
    "# Lấy tất cả giá tương ứng với trọng lượng 3.01 carat\n",
    "price_3_01 = diamond_price[diamond_size == 3.01]\n",
    "\n",
    "# Hiển thị kết quả\n",
    "print(f\"Kích thước trung bình của 50 viên kim cương: {average_size:.2f} carat\")\n",
    "print(f\"Giá trung bình của 50 viên kim cương: {average_price:.2f} USD\")\n",
    "\n",
    "# In kết quả giá của viên 3.01 carat\n",
    "if len(price_3_01) > 0:\n",
    "    print(f\"Giá bán của viên kim cương có trọng lượng 3.01 carat: {price_3_01}\")\n",
    "else:\n",
    "    print(\"Không tìm thấy viên kim cương nào có trọng lượng 3.01 carat.\")\n",
    "\n",
    "\n"
   ]
  },
  {
   "cell_type": "code",
   "execution_count": null,
   "metadata": {},
   "outputs": [],
   "source": []
  }
 ],
 "metadata": {
  "colab": {
   "collapsed_sections": [],
   "name": "Chuong_4_package_Numpy.ipynb",
   "provenance": []
  },
  "kernelspec": {
   "display_name": "Python 3",
   "language": "python",
   "name": "python3"
  },
  "language_info": {
   "codemirror_mode": {
    "name": "ipython",
    "version": 3
   },
   "file_extension": ".py",
   "mimetype": "text/x-python",
   "name": "python",
   "nbconvert_exporter": "python",
   "pygments_lexer": "ipython3",
   "version": "3.8.5"
  }
 },
 "nbformat": 4,
 "nbformat_minor": 1
}
